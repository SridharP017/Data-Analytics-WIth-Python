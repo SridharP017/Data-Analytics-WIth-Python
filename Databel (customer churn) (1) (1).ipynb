{
 "cells": [
  {
   "cell_type": "code",
   "execution_count": 1,
   "id": "b27e7286",
   "metadata": {},
   "outputs": [],
   "source": [
    "import pandas as pd\n",
    "import numpy as np \n",
    "import seaborn as sns\n",
    "import matplotlib.pyplot as plt"
   ]
  },
  {
   "cell_type": "code",
   "execution_count": 2,
   "id": "e1bcfceb",
   "metadata": {},
   "outputs": [],
   "source": [
    "df=pd.read_csv(\"D:/Data Science/Databel - Data.csv\")"
   ]
  },
  {
   "cell_type": "code",
   "execution_count": 3,
   "id": "05074a7b",
   "metadata": {},
   "outputs": [
    {
     "data": {
      "text/html": [
       "<div>\n",
       "<style scoped>\n",
       "    .dataframe tbody tr th:only-of-type {\n",
       "        vertical-align: middle;\n",
       "    }\n",
       "\n",
       "    .dataframe tbody tr th {\n",
       "        vertical-align: top;\n",
       "    }\n",
       "\n",
       "    .dataframe thead th {\n",
       "        text-align: right;\n",
       "    }\n",
       "</style>\n",
       "<table border=\"1\" class=\"dataframe\">\n",
       "  <thead>\n",
       "    <tr style=\"text-align: right;\">\n",
       "      <th></th>\n",
       "      <th>Customer ID</th>\n",
       "      <th>Churn Label</th>\n",
       "      <th>Account Length (in months)</th>\n",
       "      <th>Local Calls</th>\n",
       "      <th>Local Mins</th>\n",
       "      <th>Intl Calls</th>\n",
       "      <th>Intl Mins</th>\n",
       "      <th>Intl Active</th>\n",
       "      <th>Intl Plan</th>\n",
       "      <th>Extra International Charges</th>\n",
       "      <th>...</th>\n",
       "      <th>Senior</th>\n",
       "      <th>Group</th>\n",
       "      <th>Number of Customers in Group</th>\n",
       "      <th>Device Protection &amp; Online Backup</th>\n",
       "      <th>Contract Type</th>\n",
       "      <th>Payment Method</th>\n",
       "      <th>Monthly Charge</th>\n",
       "      <th>Total Charges</th>\n",
       "      <th>Churn Category</th>\n",
       "      <th>Churn Reason</th>\n",
       "    </tr>\n",
       "  </thead>\n",
       "  <tbody>\n",
       "    <tr>\n",
       "      <th>0</th>\n",
       "      <td>4444-BZPU</td>\n",
       "      <td>No</td>\n",
       "      <td>1</td>\n",
       "      <td>3</td>\n",
       "      <td>8.0</td>\n",
       "      <td>0.0</td>\n",
       "      <td>0.0</td>\n",
       "      <td>No</td>\n",
       "      <td>no</td>\n",
       "      <td>0.0</td>\n",
       "      <td>...</td>\n",
       "      <td>No</td>\n",
       "      <td>No</td>\n",
       "      <td>0</td>\n",
       "      <td>No</td>\n",
       "      <td>Month-to-Month</td>\n",
       "      <td>Direct Debit</td>\n",
       "      <td>10</td>\n",
       "      <td>10</td>\n",
       "      <td>NaN</td>\n",
       "      <td>NaN</td>\n",
       "    </tr>\n",
       "    <tr>\n",
       "      <th>1</th>\n",
       "      <td>5676-PTZX</td>\n",
       "      <td>No</td>\n",
       "      <td>33</td>\n",
       "      <td>179</td>\n",
       "      <td>431.3</td>\n",
       "      <td>0.0</td>\n",
       "      <td>0.0</td>\n",
       "      <td>No</td>\n",
       "      <td>no</td>\n",
       "      <td>0.0</td>\n",
       "      <td>...</td>\n",
       "      <td>No</td>\n",
       "      <td>No</td>\n",
       "      <td>0</td>\n",
       "      <td>Yes</td>\n",
       "      <td>One Year</td>\n",
       "      <td>Paper Check</td>\n",
       "      <td>21</td>\n",
       "      <td>703</td>\n",
       "      <td>NaN</td>\n",
       "      <td>NaN</td>\n",
       "    </tr>\n",
       "    <tr>\n",
       "      <th>2</th>\n",
       "      <td>8532-ZEKQ</td>\n",
       "      <td>No</td>\n",
       "      <td>44</td>\n",
       "      <td>82</td>\n",
       "      <td>217.6</td>\n",
       "      <td>0.0</td>\n",
       "      <td>0.0</td>\n",
       "      <td>No</td>\n",
       "      <td>yes</td>\n",
       "      <td>0.0</td>\n",
       "      <td>...</td>\n",
       "      <td>No</td>\n",
       "      <td>No</td>\n",
       "      <td>0</td>\n",
       "      <td>Yes</td>\n",
       "      <td>One Year</td>\n",
       "      <td>Direct Debit</td>\n",
       "      <td>23</td>\n",
       "      <td>1014</td>\n",
       "      <td>NaN</td>\n",
       "      <td>NaN</td>\n",
       "    </tr>\n",
       "    <tr>\n",
       "      <th>3</th>\n",
       "      <td>1314-SMPJ</td>\n",
       "      <td>No</td>\n",
       "      <td>10</td>\n",
       "      <td>47</td>\n",
       "      <td>111.6</td>\n",
       "      <td>60.0</td>\n",
       "      <td>71.0</td>\n",
       "      <td>Yes</td>\n",
       "      <td>yes</td>\n",
       "      <td>0.0</td>\n",
       "      <td>...</td>\n",
       "      <td>No</td>\n",
       "      <td>No</td>\n",
       "      <td>0</td>\n",
       "      <td>No</td>\n",
       "      <td>Month-to-Month</td>\n",
       "      <td>Paper Check</td>\n",
       "      <td>17</td>\n",
       "      <td>177</td>\n",
       "      <td>NaN</td>\n",
       "      <td>NaN</td>\n",
       "    </tr>\n",
       "    <tr>\n",
       "      <th>4</th>\n",
       "      <td>2956-TXCJ</td>\n",
       "      <td>No</td>\n",
       "      <td>62</td>\n",
       "      <td>184</td>\n",
       "      <td>621.2</td>\n",
       "      <td>310.0</td>\n",
       "      <td>694.4</td>\n",
       "      <td>Yes</td>\n",
       "      <td>yes</td>\n",
       "      <td>0.0</td>\n",
       "      <td>...</td>\n",
       "      <td>No</td>\n",
       "      <td>No</td>\n",
       "      <td>0</td>\n",
       "      <td>No</td>\n",
       "      <td>One Year</td>\n",
       "      <td>Direct Debit</td>\n",
       "      <td>28</td>\n",
       "      <td>1720</td>\n",
       "      <td>NaN</td>\n",
       "      <td>NaN</td>\n",
       "    </tr>\n",
       "  </tbody>\n",
       "</table>\n",
       "<p>5 rows × 29 columns</p>\n",
       "</div>"
      ],
      "text/plain": [
       "  Customer ID Churn Label  Account Length (in months)  Local Calls  \\\n",
       "0   4444-BZPU          No                           1            3   \n",
       "1   5676-PTZX          No                          33          179   \n",
       "2   8532-ZEKQ          No                          44           82   \n",
       "3   1314-SMPJ          No                          10           47   \n",
       "4   2956-TXCJ          No                          62          184   \n",
       "\n",
       "   Local Mins  Intl Calls  Intl Mins Intl Active Intl Plan  \\\n",
       "0         8.0         0.0        0.0          No        no   \n",
       "1       431.3         0.0        0.0          No        no   \n",
       "2       217.6         0.0        0.0          No       yes   \n",
       "3       111.6        60.0       71.0         Yes       yes   \n",
       "4       621.2       310.0      694.4         Yes       yes   \n",
       "\n",
       "   Extra International Charges  ...  Senior  Group  \\\n",
       "0                          0.0  ...      No     No   \n",
       "1                          0.0  ...      No     No   \n",
       "2                          0.0  ...      No     No   \n",
       "3                          0.0  ...      No     No   \n",
       "4                          0.0  ...      No     No   \n",
       "\n",
       "  Number of Customers in Group  Device Protection & Online Backup  \\\n",
       "0                            0                                 No   \n",
       "1                            0                                Yes   \n",
       "2                            0                                Yes   \n",
       "3                            0                                 No   \n",
       "4                            0                                 No   \n",
       "\n",
       "    Contract Type Payment Method Monthly Charge  Total Charges Churn Category  \\\n",
       "0  Month-to-Month   Direct Debit             10             10            NaN   \n",
       "1        One Year    Paper Check             21            703            NaN   \n",
       "2        One Year   Direct Debit             23           1014            NaN   \n",
       "3  Month-to-Month    Paper Check             17            177            NaN   \n",
       "4        One Year   Direct Debit             28           1720            NaN   \n",
       "\n",
       "  Churn Reason  \n",
       "0          NaN  \n",
       "1          NaN  \n",
       "2          NaN  \n",
       "3          NaN  \n",
       "4          NaN  \n",
       "\n",
       "[5 rows x 29 columns]"
      ]
     },
     "execution_count": 3,
     "metadata": {},
     "output_type": "execute_result"
    }
   ],
   "source": [
    "df.head()"
   ]
  },
  {
   "cell_type": "code",
   "execution_count": 4,
   "id": "31451ece",
   "metadata": {
    "scrolled": false
   },
   "outputs": [
    {
     "name": "stdout",
     "output_type": "stream",
     "text": [
      "<class 'pandas.core.frame.DataFrame'>\n",
      "RangeIndex: 6687 entries, 0 to 6686\n",
      "Data columns (total 29 columns):\n",
      " #   Column                             Non-Null Count  Dtype  \n",
      "---  ------                             --------------  -----  \n",
      " 0   Customer ID                        6687 non-null   object \n",
      " 1   Churn Label                        6687 non-null   object \n",
      " 2   Account Length (in months)         6687 non-null   int64  \n",
      " 3   Local Calls                        6687 non-null   int64  \n",
      " 4   Local Mins                         6687 non-null   float64\n",
      " 5   Intl Calls                         6687 non-null   float64\n",
      " 6   Intl Mins                          6687 non-null   float64\n",
      " 7   Intl Active                        6687 non-null   object \n",
      " 8   Intl Plan                          6687 non-null   object \n",
      " 9   Extra International Charges        6687 non-null   float64\n",
      " 10  Customer Service Calls             6687 non-null   int64  \n",
      " 11  Avg Monthly GB Download            6687 non-null   int64  \n",
      " 12  Unlimited Data Plan                6687 non-null   object \n",
      " 13  Extra Data Charges                 6687 non-null   int64  \n",
      " 14  State                              6687 non-null   object \n",
      " 15  Phone Number                       6687 non-null   object \n",
      " 16  Gender                             6687 non-null   object \n",
      " 17  Age                                6687 non-null   int64  \n",
      " 18  Under 30                           6687 non-null   object \n",
      " 19  Senior                             6687 non-null   object \n",
      " 20  Group                              6687 non-null   object \n",
      " 21  Number of Customers in Group       6687 non-null   object \n",
      " 22  Device Protection & Online Backup  6687 non-null   object \n",
      " 23  Contract Type                      6687 non-null   object \n",
      " 24  Payment Method                     6687 non-null   object \n",
      " 25  Monthly Charge                     6687 non-null   int64  \n",
      " 26  Total Charges                      6687 non-null   int64  \n",
      " 27  Churn Category                     1769 non-null   object \n",
      " 28  Churn Reason                       1769 non-null   object \n",
      "dtypes: float64(4), int64(8), object(17)\n",
      "memory usage: 1.5+ MB\n"
     ]
    }
   ],
   "source": [
    "df.info()"
   ]
  },
  {
   "cell_type": "code",
   "execution_count": 5,
   "id": "44925c2d",
   "metadata": {},
   "outputs": [
    {
     "data": {
      "text/html": [
       "<div>\n",
       "<style scoped>\n",
       "    .dataframe tbody tr th:only-of-type {\n",
       "        vertical-align: middle;\n",
       "    }\n",
       "\n",
       "    .dataframe tbody tr th {\n",
       "        vertical-align: top;\n",
       "    }\n",
       "\n",
       "    .dataframe thead th {\n",
       "        text-align: right;\n",
       "    }\n",
       "</style>\n",
       "<table border=\"1\" class=\"dataframe\">\n",
       "  <thead>\n",
       "    <tr style=\"text-align: right;\">\n",
       "      <th></th>\n",
       "      <th>count</th>\n",
       "      <th>mean</th>\n",
       "      <th>std</th>\n",
       "      <th>min</th>\n",
       "      <th>25%</th>\n",
       "      <th>50%</th>\n",
       "      <th>75%</th>\n",
       "      <th>max</th>\n",
       "    </tr>\n",
       "  </thead>\n",
       "  <tbody>\n",
       "    <tr>\n",
       "      <th>Account Length (in months)</th>\n",
       "      <td>6687.0</td>\n",
       "      <td>32.337820</td>\n",
       "      <td>24.595689</td>\n",
       "      <td>1.0</td>\n",
       "      <td>9.0</td>\n",
       "      <td>29.0</td>\n",
       "      <td>55.00</td>\n",
       "      <td>77.0</td>\n",
       "    </tr>\n",
       "    <tr>\n",
       "      <th>Local Calls</th>\n",
       "      <td>6687.0</td>\n",
       "      <td>130.974129</td>\n",
       "      <td>121.893966</td>\n",
       "      <td>1.0</td>\n",
       "      <td>31.0</td>\n",
       "      <td>98.0</td>\n",
       "      <td>199.00</td>\n",
       "      <td>918.0</td>\n",
       "    </tr>\n",
       "    <tr>\n",
       "      <th>Local Mins</th>\n",
       "      <td>6687.0</td>\n",
       "      <td>322.752864</td>\n",
       "      <td>288.619931</td>\n",
       "      <td>4.0</td>\n",
       "      <td>76.9</td>\n",
       "      <td>250.5</td>\n",
       "      <td>498.05</td>\n",
       "      <td>1234.2</td>\n",
       "    </tr>\n",
       "    <tr>\n",
       "      <th>Intl Calls</th>\n",
       "      <td>6687.0</td>\n",
       "      <td>51.097524</td>\n",
       "      <td>103.592369</td>\n",
       "      <td>0.0</td>\n",
       "      <td>0.0</td>\n",
       "      <td>0.0</td>\n",
       "      <td>52.00</td>\n",
       "      <td>1120.0</td>\n",
       "    </tr>\n",
       "    <tr>\n",
       "      <th>Intl Mins</th>\n",
       "      <td>6687.0</td>\n",
       "      <td>130.070624</td>\n",
       "      <td>243.527828</td>\n",
       "      <td>0.0</td>\n",
       "      <td>0.0</td>\n",
       "      <td>0.0</td>\n",
       "      <td>140.40</td>\n",
       "      <td>1372.5</td>\n",
       "    </tr>\n",
       "    <tr>\n",
       "      <th>Extra International Charges</th>\n",
       "      <td>6687.0</td>\n",
       "      <td>33.641783</td>\n",
       "      <td>76.346828</td>\n",
       "      <td>0.0</td>\n",
       "      <td>0.0</td>\n",
       "      <td>0.0</td>\n",
       "      <td>16.40</td>\n",
       "      <td>585.8</td>\n",
       "    </tr>\n",
       "    <tr>\n",
       "      <th>Customer Service Calls</th>\n",
       "      <td>6687.0</td>\n",
       "      <td>0.915657</td>\n",
       "      <td>1.411484</td>\n",
       "      <td>0.0</td>\n",
       "      <td>0.0</td>\n",
       "      <td>0.0</td>\n",
       "      <td>2.00</td>\n",
       "      <td>5.0</td>\n",
       "    </tr>\n",
       "    <tr>\n",
       "      <th>Avg Monthly GB Download</th>\n",
       "      <td>6687.0</td>\n",
       "      <td>6.696276</td>\n",
       "      <td>7.454339</td>\n",
       "      <td>0.0</td>\n",
       "      <td>1.0</td>\n",
       "      <td>5.0</td>\n",
       "      <td>9.00</td>\n",
       "      <td>43.0</td>\n",
       "    </tr>\n",
       "    <tr>\n",
       "      <th>Extra Data Charges</th>\n",
       "      <td>6687.0</td>\n",
       "      <td>3.374458</td>\n",
       "      <td>12.565309</td>\n",
       "      <td>0.0</td>\n",
       "      <td>0.0</td>\n",
       "      <td>0.0</td>\n",
       "      <td>0.00</td>\n",
       "      <td>99.0</td>\n",
       "    </tr>\n",
       "    <tr>\n",
       "      <th>Age</th>\n",
       "      <td>6687.0</td>\n",
       "      <td>47.448632</td>\n",
       "      <td>16.969893</td>\n",
       "      <td>19.0</td>\n",
       "      <td>33.0</td>\n",
       "      <td>47.0</td>\n",
       "      <td>60.00</td>\n",
       "      <td>85.0</td>\n",
       "    </tr>\n",
       "    <tr>\n",
       "      <th>Monthly Charge</th>\n",
       "      <td>6687.0</td>\n",
       "      <td>31.030357</td>\n",
       "      <td>16.288147</td>\n",
       "      <td>5.0</td>\n",
       "      <td>16.0</td>\n",
       "      <td>31.0</td>\n",
       "      <td>43.00</td>\n",
       "      <td>78.0</td>\n",
       "    </tr>\n",
       "    <tr>\n",
       "      <th>Total Charges</th>\n",
       "      <td>6687.0</td>\n",
       "      <td>1083.755645</td>\n",
       "      <td>1127.074863</td>\n",
       "      <td>6.0</td>\n",
       "      <td>181.0</td>\n",
       "      <td>647.0</td>\n",
       "      <td>1732.50</td>\n",
       "      <td>5574.0</td>\n",
       "    </tr>\n",
       "  </tbody>\n",
       "</table>\n",
       "</div>"
      ],
      "text/plain": [
       "                              count         mean          std   min    25%  \\\n",
       "Account Length (in months)   6687.0    32.337820    24.595689   1.0    9.0   \n",
       "Local Calls                  6687.0   130.974129   121.893966   1.0   31.0   \n",
       "Local Mins                   6687.0   322.752864   288.619931   4.0   76.9   \n",
       "Intl Calls                   6687.0    51.097524   103.592369   0.0    0.0   \n",
       "Intl Mins                    6687.0   130.070624   243.527828   0.0    0.0   \n",
       "Extra International Charges  6687.0    33.641783    76.346828   0.0    0.0   \n",
       "Customer Service Calls       6687.0     0.915657     1.411484   0.0    0.0   \n",
       "Avg Monthly GB Download      6687.0     6.696276     7.454339   0.0    1.0   \n",
       "Extra Data Charges           6687.0     3.374458    12.565309   0.0    0.0   \n",
       "Age                          6687.0    47.448632    16.969893  19.0   33.0   \n",
       "Monthly Charge               6687.0    31.030357    16.288147   5.0   16.0   \n",
       "Total Charges                6687.0  1083.755645  1127.074863   6.0  181.0   \n",
       "\n",
       "                               50%      75%     max  \n",
       "Account Length (in months)    29.0    55.00    77.0  \n",
       "Local Calls                   98.0   199.00   918.0  \n",
       "Local Mins                   250.5   498.05  1234.2  \n",
       "Intl Calls                     0.0    52.00  1120.0  \n",
       "Intl Mins                      0.0   140.40  1372.5  \n",
       "Extra International Charges    0.0    16.40   585.8  \n",
       "Customer Service Calls         0.0     2.00     5.0  \n",
       "Avg Monthly GB Download        5.0     9.00    43.0  \n",
       "Extra Data Charges             0.0     0.00    99.0  \n",
       "Age                           47.0    60.00    85.0  \n",
       "Monthly Charge                31.0    43.00    78.0  \n",
       "Total Charges                647.0  1732.50  5574.0  "
      ]
     },
     "execution_count": 5,
     "metadata": {},
     "output_type": "execute_result"
    }
   ],
   "source": [
    "df.describe().T"
   ]
  },
  {
   "cell_type": "code",
   "execution_count": 6,
   "id": "e7f428da",
   "metadata": {},
   "outputs": [
    {
     "data": {
      "text/plain": [
       "1     8.838044\n",
       "2     3.364738\n",
       "3     2.811425\n",
       "71    2.497383\n",
       "4     2.407657\n",
       "        ...   \n",
       "39    0.717811\n",
       "74    0.583221\n",
       "75    0.209361\n",
       "77    0.074772\n",
       "76    0.044863\n",
       "Name: Account Length (in months), Length: 77, dtype: float64"
      ]
     },
     "execution_count": 6,
     "metadata": {},
     "output_type": "execute_result"
    }
   ],
   "source": [
    "#checking unique values \n",
    "df['Account Length (in months)'].value_counts(normalize=True)*100"
   ]
  },
  {
   "cell_type": "code",
   "execution_count": 7,
   "id": "faa567d4",
   "metadata": {},
   "outputs": [
    {
     "data": {
      "text/plain": [
       "<AxesSubplot:xlabel='Account Length (in months)', ylabel='count'>"
      ]
     },
     "execution_count": 7,
     "metadata": {},
     "output_type": "execute_result"
    },
    {
     "data": {
      "image/png": "[encoded data removed]",
      "text/plain": [
       "<Figure size 1152x648 with 1 Axes>"
      ]
     },
     "metadata": {
      "needs_background": "light"
     },
     "output_type": "display_data"
    }
   ],
   "source": [
    "plt.figure(figsize=(16,9))\n",
    "sns.countplot(x = \"Account Length (in months)\", hue = \"Churn Label\" ,data=df)"
   ]
  },
  {
   "cell_type": "code",
   "execution_count": 8,
   "id": "3a15bc20",
   "metadata": {},
   "outputs": [],
   "source": [
    "#grouping Account length\n",
    "df['Account Length (in years)'] = pd.cut(df['Account Length (in months)'],bins=[0,12,24,36,48,60,77],labels=['1-year','2-years','3-years','4-years','5-years','More than 5'])"
   ]
  },
  {
   "cell_type": "code",
   "execution_count": 9,
   "id": "7fa27f4b",
   "metadata": {},
   "outputs": [
    {
     "data": {
      "text/plain": [
       "1-year         31.105129\n",
       "More than 5    19.844474\n",
       "2-years        14.610438\n",
       "3-years        11.978466\n",
       "5-years        11.843876\n",
       "4-years        10.617616\n",
       "Name: Account Length (in years), dtype: float64"
      ]
     },
     "execution_count": 9,
     "metadata": {},
     "output_type": "execute_result"
    }
   ],
   "source": [
    "df['Account Length (in years)'].value_counts(normalize=True)*100"
   ]
  },
  {
   "cell_type": "code",
   "execution_count": 10,
   "id": "07ed5f44",
   "metadata": {},
   "outputs": [
    {
     "data": {
      "text/plain": [
       "6      2.138478\n",
       "4      2.003888\n",
       "5      1.884253\n",
       "2      1.719755\n",
       "3      1.630028\n",
       "         ...   \n",
       "501    0.014954\n",
       "918    0.014954\n",
       "341    0.014954\n",
       "497    0.014954\n",
       "461    0.014954\n",
       "Name: Local Calls, Length: 521, dtype: float64"
      ]
     },
     "execution_count": 10,
     "metadata": {},
     "output_type": "execute_result"
    }
   ],
   "source": [
    "df['Local Calls'].value_counts(normalize=True)*100"
   ]
  },
  {
   "cell_type": "code",
   "execution_count": 11,
   "id": "e0d0174c",
   "metadata": {},
   "outputs": [
    {
     "data": {
      "text/plain": [
       "no     90.264693\n",
       "yes     9.735307\n",
       "Name: Intl Plan, dtype: float64"
      ]
     },
     "execution_count": 11,
     "metadata": {},
     "output_type": "execute_result"
    }
   ],
   "source": [
    "df['Intl Plan'].value_counts(normalize=True)*100"
   ]
  },
  {
   "cell_type": "code",
   "execution_count": 12,
   "id": "94de02ff",
   "metadata": {},
   "outputs": [
    {
     "data": {
      "text/plain": [
       "0.0      66.756393\n",
       "2.6       0.194407\n",
       "4.3       0.194407\n",
       "2.5       0.149544\n",
       "3.2       0.149544\n",
       "           ...    \n",
       "35.7      0.014954\n",
       "136.3     0.014954\n",
       "201.6     0.014954\n",
       "193.3     0.014954\n",
       "12.8      0.014954\n",
       "Name: Extra International Charges, Length: 1290, dtype: float64"
      ]
     },
     "execution_count": 12,
     "metadata": {},
     "output_type": "execute_result"
    }
   ],
   "source": [
    "df['Extra International Charges'].value_counts(normalize=True)*100"
   ]
  },
  {
   "cell_type": "code",
   "execution_count": 13,
   "id": "1eb25ded",
   "metadata": {},
   "outputs": [
    {
     "data": {
      "text/plain": [
       "WV    3.185285\n",
       "MN    2.512337\n",
       "NY    2.497383\n",
       "AL    2.407657\n",
       "OH    2.362793\n",
       "WI    2.332885\n",
       "OR    2.332885\n",
       "VA    2.317930\n",
       "WY    2.302976\n",
       "CT    2.213250\n",
       "ID    2.198295\n",
       "VT    2.198295\n",
       "MI    2.183341\n",
       "TX    2.168386\n",
       "UT    2.153432\n",
       "IN    2.138478\n",
       "KS    2.108569\n",
       "MD    2.093614\n",
       "MT    2.048751\n",
       "NJ    2.048751\n",
       "NC    2.033797\n",
       "NV    1.973979\n",
       "WA    1.973979\n",
       "CO    1.973979\n",
       "MA    1.959025\n",
       "RI    1.959025\n",
       "MS    1.944071\n",
       "AZ    1.914162\n",
       "MO    1.899207\n",
       "FL    1.899207\n",
       "NM    1.854344\n",
       "ND    1.854344\n",
       "ME    1.854344\n",
       "OK    1.839390\n",
       "DE    1.824435\n",
       "NE    1.824435\n",
       "SD    1.794527\n",
       "SC    1.794527\n",
       "KY    1.764618\n",
       "IL    1.734709\n",
       "NH    1.674892\n",
       "AR    1.644983\n",
       "GA    1.615074\n",
       "DC    1.615074\n",
       "TN    1.585165\n",
       "HI    1.585165\n",
       "AK    1.555256\n",
       "LA    1.540302\n",
       "PA    1.345895\n",
       "IA    1.345895\n",
       "CA    1.016898\n",
       "Name: State, dtype: float64"
      ]
     },
     "execution_count": 13,
     "metadata": {},
     "output_type": "execute_result"
    }
   ],
   "source": [
    "df['State'].value_counts(normalize=True)*100"
   ]
  },
  {
   "cell_type": "code",
   "execution_count": 14,
   "id": "b18e7500",
   "metadata": {},
   "outputs": [
    {
     "data": {
      "text/plain": [
       "Month-to-Month    51.009421\n",
       "Two Year          26.873037\n",
       "One Year          22.117541\n",
       "Name: Contract Type, dtype: float64"
      ]
     },
     "execution_count": 14,
     "metadata": {},
     "output_type": "execute_result"
    }
   ],
   "source": [
    "df['Contract Type'].value_counts(normalize=True)*100"
   ]
  },
  {
   "cell_type": "code",
   "execution_count": 15,
   "id": "0bb19598",
   "metadata": {},
   "outputs": [
    {
     "data": {
      "text/plain": [
       "Direct Debit    55.361148\n",
       "Credit Card     39.090773\n",
       "Paper Check      5.548078\n",
       "Name: Payment Method, dtype: float64"
      ]
     },
     "execution_count": 15,
     "metadata": {},
     "output_type": "execute_result"
    }
   ],
   "source": [
    "df['Payment Method'].value_counts(normalize=True)*100"
   ]
  },
  {
   "cell_type": "code",
   "execution_count": 16,
   "id": "0aa739c7",
   "metadata": {},
   "outputs": [
    {
     "data": {
      "text/plain": [
       "Competitor made better offer                 17.128321\n",
       "Competitor had better devices                16.789146\n",
       "Attitude of support person                   11.475410\n",
       "Don't know                                    6.953081\n",
       "Competitor offered more data                  6.218202\n",
       "Competitor offered higher download speeds     5.370266\n",
       "Attitude of service provider                  4.748445\n",
       "Price too high                                4.183154\n",
       "Product dissatisfaction                       4.126625\n",
       "Network reliability                           3.900509\n",
       "Long distance charges                         3.448276\n",
       "Service dissatisfaction                       3.391747\n",
       "Moved                                         2.487281\n",
       "Extra data charges                            2.091577\n",
       "Limited range of services                     1.978519\n",
       "Poor expertise of online support              1.695873\n",
       "Lack of affordable download/upload speed      1.582815\n",
       "Lack of self-service on Website               1.469757\n",
       "Poor expertise of phone support               0.621820\n",
       "Deceased                                      0.339175\n",
       "Name: Churn Reason, dtype: float64"
      ]
     },
     "execution_count": 16,
     "metadata": {},
     "output_type": "execute_result"
    }
   ],
   "source": [
    "df['Churn Reason'].value_counts(normalize=True)*100"
   ]
  },
  {
   "cell_type": "code",
   "execution_count": 17,
   "id": "55de72f5",
   "metadata": {},
   "outputs": [
    {
     "data": {
      "text/plain": [
       "Competitor         45.505936\n",
       "Attitude           16.223855\n",
       "Dissatisfaction    16.167326\n",
       "Price              11.305822\n",
       "Other              10.797060\n",
       "Name: Churn Category, dtype: float64"
      ]
     },
     "execution_count": 17,
     "metadata": {},
     "output_type": "execute_result"
    }
   ],
   "source": [
    "df['Churn Category'].value_counts(normalize=True)*100"
   ]
  },
  {
   "cell_type": "code",
   "execution_count": 18,
   "id": "5baeb67d",
   "metadata": {},
   "outputs": [
    {
     "data": {
      "text/plain": [
       "Month-to-Month    51.009421\n",
       "Two Year          26.873037\n",
       "One Year          22.117541\n",
       "Name: Contract Type, dtype: float64"
      ]
     },
     "execution_count": 18,
     "metadata": {},
     "output_type": "execute_result"
    }
   ],
   "source": [
    "#checking for contract type\n",
    "df['Contract Type'].value_counts(normalize=True)*100"
   ]
  },
  {
   "cell_type": "code",
   "execution_count": 19,
   "id": "36319720",
   "metadata": {},
   "outputs": [],
   "source": [
    "#calculating average of contracte type\n",
    "mean_monthly_charge_by_contract_type = df.groupby('Contract Type')['Monthly Charge'].mean()"
   ]
  },
  {
   "cell_type": "code",
   "execution_count": 20,
   "id": "589e2f83",
   "metadata": {},
   "outputs": [
    {
     "name": "stdout",
     "output_type": "stream",
     "text": [
      "Contract Type\n",
      "Month-to-Month    31.796247\n",
      "One Year          30.844490\n",
      "Two Year          29.729549\n",
      "Name: Monthly Charge, dtype: float64\n"
     ]
    }
   ],
   "source": [
    "print(mean_monthly_charge_by_contract_type)"
   ]
  },
  {
   "cell_type": "code",
   "execution_count": 21,
   "id": "516922f8",
   "metadata": {},
   "outputs": [],
   "source": [
    "#getting churn % by contract type\n",
    "\n",
    "churn_perc_by_contract_type = pd.crosstab(df['Contract Type'], df['Churn Label'],margins=True,normalize='all')"
   ]
  },
  {
   "cell_type": "code",
   "execution_count": 22,
   "id": "65cd81be",
   "metadata": {},
   "outputs": [
    {
     "name": "stdout",
     "output_type": "stream",
     "text": [
      "Churn Label           No       Yes       All\n",
      "Contract Type                               \n",
      "Month-to-Month  0.273964  0.236130  0.510094\n",
      "One Year        0.196202  0.024974  0.221175\n",
      "Two Year        0.261253  0.007477  0.268730\n",
      "All             0.731419  0.268581  1.000000\n"
     ]
    }
   ],
   "source": [
    "print(churn_perc_by_contract_type)"
   ]
  },
  {
   "cell_type": "code",
   "execution_count": 23,
   "id": "8bda9ac6",
   "metadata": {},
   "outputs": [
    {
     "data": {
      "text/plain": [
       "Churn Label\n",
       "No     151.822531\n",
       "Yes     74.198218\n",
       "Name: Local Calls, dtype: float64"
      ]
     },
     "execution_count": 23,
     "metadata": {},
     "output_type": "execute_result"
    }
   ],
   "source": [
    "#calculating Avg of Local calls \n",
    "df.groupby('Churn Label')['Local Calls'].mean()"
   ]
  },
  {
   "cell_type": "code",
   "execution_count": 24,
   "id": "0abd22c9",
   "metadata": {},
   "outputs": [
    {
     "data": {
      "text/html": [
       "<div>\n",
       "<style scoped>\n",
       "    .dataframe tbody tr th:only-of-type {\n",
       "        vertical-align: middle;\n",
       "    }\n",
       "\n",
       "    .dataframe tbody tr th {\n",
       "        vertical-align: top;\n",
       "    }\n",
       "\n",
       "    .dataframe thead th {\n",
       "        text-align: right;\n",
       "    }\n",
       "</style>\n",
       "<table border=\"1\" class=\"dataframe\">\n",
       "  <thead>\n",
       "    <tr style=\"text-align: right;\">\n",
       "      <th>Churn Label</th>\n",
       "      <th>No</th>\n",
       "      <th>Yes</th>\n",
       "      <th>All</th>\n",
       "    </tr>\n",
       "    <tr>\n",
       "      <th>Contract Type</th>\n",
       "      <th></th>\n",
       "      <th></th>\n",
       "      <th></th>\n",
       "    </tr>\n",
       "  </thead>\n",
       "  <tbody>\n",
       "    <tr>\n",
       "      <th>Month-to-Month</th>\n",
       "      <td>0.273964</td>\n",
       "      <td>0.236130</td>\n",
       "      <td>0.510094</td>\n",
       "    </tr>\n",
       "    <tr>\n",
       "      <th>One Year</th>\n",
       "      <td>0.196202</td>\n",
       "      <td>0.024974</td>\n",
       "      <td>0.221175</td>\n",
       "    </tr>\n",
       "    <tr>\n",
       "      <th>Two Year</th>\n",
       "      <td>0.261253</td>\n",
       "      <td>0.007477</td>\n",
       "      <td>0.268730</td>\n",
       "    </tr>\n",
       "    <tr>\n",
       "      <th>All</th>\n",
       "      <td>0.731419</td>\n",
       "      <td>0.268581</td>\n",
       "      <td>1.000000</td>\n",
       "    </tr>\n",
       "  </tbody>\n",
       "</table>\n",
       "</div>"
      ],
      "text/plain": [
       "Churn Label           No       Yes       All\n",
       "Contract Type                               \n",
       "Month-to-Month  0.273964  0.236130  0.510094\n",
       "One Year        0.196202  0.024974  0.221175\n",
       "Two Year        0.261253  0.007477  0.268730\n",
       "All             0.731419  0.268581  1.000000"
      ]
     },
     "execution_count": 24,
     "metadata": {},
     "output_type": "execute_result"
    }
   ],
   "source": [
    "pd.crosstab(df['Contract Type'], df['Churn Label'],margins=True,normalize='all')"
   ]
  },
  {
   "cell_type": "code",
   "execution_count": 25,
   "id": "a757dd51",
   "metadata": {},
   "outputs": [
    {
     "data": {
      "text/html": [
       "<div>\n",
       "<style scoped>\n",
       "    .dataframe tbody tr th:only-of-type {\n",
       "        vertical-align: middle;\n",
       "    }\n",
       "\n",
       "    .dataframe tbody tr th {\n",
       "        vertical-align: top;\n",
       "    }\n",
       "\n",
       "    .dataframe thead th {\n",
       "        text-align: right;\n",
       "    }\n",
       "</style>\n",
       "<table border=\"1\" class=\"dataframe\">\n",
       "  <thead>\n",
       "    <tr style=\"text-align: right;\">\n",
       "      <th>Churn Label</th>\n",
       "      <th>Yes</th>\n",
       "    </tr>\n",
       "    <tr>\n",
       "      <th>Churn Category</th>\n",
       "      <th></th>\n",
       "    </tr>\n",
       "  </thead>\n",
       "  <tbody>\n",
       "    <tr>\n",
       "      <th>Attitude</th>\n",
       "      <td>0.162239</td>\n",
       "    </tr>\n",
       "    <tr>\n",
       "      <th>Competitor</th>\n",
       "      <td>0.455059</td>\n",
       "    </tr>\n",
       "    <tr>\n",
       "      <th>Dissatisfaction</th>\n",
       "      <td>0.161673</td>\n",
       "    </tr>\n",
       "    <tr>\n",
       "      <th>Other</th>\n",
       "      <td>0.107971</td>\n",
       "    </tr>\n",
       "    <tr>\n",
       "      <th>Price</th>\n",
       "      <td>0.113058</td>\n",
       "    </tr>\n",
       "  </tbody>\n",
       "</table>\n",
       "</div>"
      ],
      "text/plain": [
       "Churn Label           Yes\n",
       "Churn Category           \n",
       "Attitude         0.162239\n",
       "Competitor       0.455059\n",
       "Dissatisfaction  0.161673\n",
       "Other            0.107971\n",
       "Price            0.113058"
      ]
     },
     "execution_count": 25,
     "metadata": {},
     "output_type": "execute_result"
    }
   ],
   "source": [
    "pd.crosstab(df['Churn Category'], df['Churn Label'], normalize='all')"
   ]
  },
  {
   "cell_type": "code",
   "execution_count": 26,
   "id": "44635c9e",
   "metadata": {},
   "outputs": [
    {
     "data": {
      "text/html": [
       "<div>\n",
       "<style scoped>\n",
       "    .dataframe tbody tr th:only-of-type {\n",
       "        vertical-align: middle;\n",
       "    }\n",
       "\n",
       "    .dataframe tbody tr th {\n",
       "        vertical-align: top;\n",
       "    }\n",
       "\n",
       "    .dataframe thead th {\n",
       "        text-align: right;\n",
       "    }\n",
       "</style>\n",
       "<table border=\"1\" class=\"dataframe\">\n",
       "  <thead>\n",
       "    <tr style=\"text-align: right;\">\n",
       "      <th>Churn Label</th>\n",
       "      <th>No</th>\n",
       "      <th>Yes</th>\n",
       "    </tr>\n",
       "    <tr>\n",
       "      <th>Contract Type</th>\n",
       "      <th></th>\n",
       "      <th></th>\n",
       "    </tr>\n",
       "  </thead>\n",
       "  <tbody>\n",
       "    <tr>\n",
       "      <th>Month-to-Month</th>\n",
       "      <td>15.0</td>\n",
       "      <td>8.0</td>\n",
       "    </tr>\n",
       "    <tr>\n",
       "      <th>One Year</th>\n",
       "      <td>42.0</td>\n",
       "      <td>48.0</td>\n",
       "    </tr>\n",
       "    <tr>\n",
       "      <th>Two Year</th>\n",
       "      <td>62.0</td>\n",
       "      <td>64.5</td>\n",
       "    </tr>\n",
       "  </tbody>\n",
       "</table>\n",
       "</div>"
      ],
      "text/plain": [
       "Churn Label       No   Yes\n",
       "Contract Type             \n",
       "Month-to-Month  15.0   8.0\n",
       "One Year        42.0  48.0\n",
       "Two Year        62.0  64.5"
      ]
     },
     "execution_count": 26,
     "metadata": {},
     "output_type": "execute_result"
    }
   ],
   "source": [
    "pd.crosstab(df['Contract Type'], df['Churn Label'], values=df['Account Length (in months)'], aggfunc=np.median)"
   ]
  },
  {
   "cell_type": "code",
   "execution_count": 27,
   "id": "57d8b9a8",
   "metadata": {},
   "outputs": [
    {
     "data": {
      "text/html": [
       "<div>\n",
       "<style scoped>\n",
       "    .dataframe tbody tr th:only-of-type {\n",
       "        vertical-align: middle;\n",
       "    }\n",
       "\n",
       "    .dataframe tbody tr th {\n",
       "        vertical-align: top;\n",
       "    }\n",
       "\n",
       "    .dataframe thead th {\n",
       "        text-align: right;\n",
       "    }\n",
       "</style>\n",
       "<table border=\"1\" class=\"dataframe\">\n",
       "  <thead>\n",
       "    <tr style=\"text-align: right;\">\n",
       "      <th>Churn Label</th>\n",
       "      <th>No</th>\n",
       "      <th>Yes</th>\n",
       "    </tr>\n",
       "    <tr>\n",
       "      <th>Local Calls</th>\n",
       "      <th></th>\n",
       "      <th></th>\n",
       "    </tr>\n",
       "  </thead>\n",
       "  <tbody>\n",
       "    <tr>\n",
       "      <th>1</th>\n",
       "      <td>20.0</td>\n",
       "      <td>27.0</td>\n",
       "    </tr>\n",
       "    <tr>\n",
       "      <th>2</th>\n",
       "      <td>12.0</td>\n",
       "      <td>33.0</td>\n",
       "    </tr>\n",
       "    <tr>\n",
       "      <th>3</th>\n",
       "      <td>13.0</td>\n",
       "      <td>29.0</td>\n",
       "    </tr>\n",
       "    <tr>\n",
       "      <th>4</th>\n",
       "      <td>16.5</td>\n",
       "      <td>27.5</td>\n",
       "    </tr>\n",
       "    <tr>\n",
       "      <th>5</th>\n",
       "      <td>16.0</td>\n",
       "      <td>30.0</td>\n",
       "    </tr>\n",
       "    <tr>\n",
       "      <th>...</th>\n",
       "      <td>...</td>\n",
       "      <td>...</td>\n",
       "    </tr>\n",
       "    <tr>\n",
       "      <th>694</th>\n",
       "      <td>29.0</td>\n",
       "      <td>NaN</td>\n",
       "    </tr>\n",
       "    <tr>\n",
       "      <th>697</th>\n",
       "      <td>39.0</td>\n",
       "      <td>NaN</td>\n",
       "    </tr>\n",
       "    <tr>\n",
       "      <th>722</th>\n",
       "      <td>42.0</td>\n",
       "      <td>NaN</td>\n",
       "    </tr>\n",
       "    <tr>\n",
       "      <th>798</th>\n",
       "      <td>43.0</td>\n",
       "      <td>NaN</td>\n",
       "    </tr>\n",
       "    <tr>\n",
       "      <th>918</th>\n",
       "      <td>50.0</td>\n",
       "      <td>NaN</td>\n",
       "    </tr>\n",
       "  </tbody>\n",
       "</table>\n",
       "<p>521 rows × 2 columns</p>\n",
       "</div>"
      ],
      "text/plain": [
       "Churn Label    No   Yes\n",
       "Local Calls            \n",
       "1            20.0  27.0\n",
       "2            12.0  33.0\n",
       "3            13.0  29.0\n",
       "4            16.5  27.5\n",
       "5            16.0  30.0\n",
       "...           ...   ...\n",
       "694          29.0   NaN\n",
       "697          39.0   NaN\n",
       "722          42.0   NaN\n",
       "798          43.0   NaN\n",
       "918          50.0   NaN\n",
       "\n",
       "[521 rows x 2 columns]"
      ]
     },
     "execution_count": 27,
     "metadata": {},
     "output_type": "execute_result"
    }
   ],
   "source": [
    "pd.crosstab(df['Local Calls'], df['Churn Label'], values=df['Monthly Charge'], aggfunc=np.median)"
   ]
  },
  {
   "cell_type": "code",
   "execution_count": 28,
   "id": "999bba46",
   "metadata": {},
   "outputs": [
    {
     "data": {
      "text/html": [
       "<div>\n",
       "<style scoped>\n",
       "    .dataframe tbody tr th:only-of-type {\n",
       "        vertical-align: middle;\n",
       "    }\n",
       "\n",
       "    .dataframe tbody tr th {\n",
       "        vertical-align: top;\n",
       "    }\n",
       "\n",
       "    .dataframe thead th {\n",
       "        text-align: right;\n",
       "    }\n",
       "</style>\n",
       "<table border=\"1\" class=\"dataframe\">\n",
       "  <thead>\n",
       "    <tr style=\"text-align: right;\">\n",
       "      <th>Churn Label</th>\n",
       "      <th>No</th>\n",
       "      <th>Yes</th>\n",
       "    </tr>\n",
       "    <tr>\n",
       "      <th>Contract Type</th>\n",
       "      <th></th>\n",
       "      <th></th>\n",
       "    </tr>\n",
       "  </thead>\n",
       "  <tbody>\n",
       "    <tr>\n",
       "      <th>Month-to-Month</th>\n",
       "      <td>80.656114</td>\n",
       "      <td>57.047498</td>\n",
       "    </tr>\n",
       "    <tr>\n",
       "      <th>One Year</th>\n",
       "      <td>169.634146</td>\n",
       "      <td>185.053892</td>\n",
       "    </tr>\n",
       "    <tr>\n",
       "      <th>Two Year</th>\n",
       "      <td>213.074986</td>\n",
       "      <td>245.560000</td>\n",
       "    </tr>\n",
       "  </tbody>\n",
       "</table>\n",
       "</div>"
      ],
      "text/plain": [
       "Churn Label             No         Yes\n",
       "Contract Type                         \n",
       "Month-to-Month   80.656114   57.047498\n",
       "One Year        169.634146  185.053892\n",
       "Two Year        213.074986  245.560000"
      ]
     },
     "execution_count": 28,
     "metadata": {},
     "output_type": "execute_result"
    }
   ],
   "source": [
    "pd.crosstab(df['Contract Type'],df['Churn Label'], values=df['Local Calls'], aggfunc=np.average)"
   ]
  },
  {
   "cell_type": "code",
   "execution_count": 29,
   "id": "b282e775",
   "metadata": {},
   "outputs": [
    {
     "data": {
      "text/plain": [
       "Index(['Customer ID', 'Churn Label', 'Account Length (in months)',\n",
       "       'Local Calls', 'Local Mins', 'Intl Calls', 'Intl Mins', 'Intl Active',\n",
       "       'Intl Plan', 'Extra International Charges', 'Customer Service Calls',\n",
       "       'Avg Monthly GB Download', 'Unlimited Data Plan', 'Extra Data Charges',\n",
       "       'State', 'Phone Number', 'Gender', 'Age', 'Under 30', 'Senior', 'Group',\n",
       "       'Number of Customers in Group', 'Device Protection & Online Backup',\n",
       "       'Contract Type', 'Payment Method', 'Monthly Charge', 'Total Charges',\n",
       "       'Churn Category', 'Churn Reason', 'Account Length (in years)'],\n",
       "      dtype='object')"
      ]
     },
     "execution_count": 29,
     "metadata": {},
     "output_type": "execute_result"
    }
   ],
   "source": [
    "df.columns"
   ]
  },
  {
   "cell_type": "code",
   "execution_count": 30,
   "id": "a7a47bbc",
   "metadata": {},
   "outputs": [
    {
     "data": {
      "text/html": [
       "<div>\n",
       "<style scoped>\n",
       "    .dataframe tbody tr th:only-of-type {\n",
       "        vertical-align: middle;\n",
       "    }\n",
       "\n",
       "    .dataframe tbody tr th {\n",
       "        vertical-align: top;\n",
       "    }\n",
       "\n",
       "    .dataframe thead th {\n",
       "        text-align: right;\n",
       "    }\n",
       "</style>\n",
       "<table border=\"1\" class=\"dataframe\">\n",
       "  <thead>\n",
       "    <tr style=\"text-align: right;\">\n",
       "      <th>Churn Label</th>\n",
       "      <th>No</th>\n",
       "      <th>Yes</th>\n",
       "      <th>All</th>\n",
       "    </tr>\n",
       "    <tr>\n",
       "      <th>Unlimited Data Plan</th>\n",
       "      <th></th>\n",
       "      <th></th>\n",
       "      <th></th>\n",
       "    </tr>\n",
       "  </thead>\n",
       "  <tbody>\n",
       "    <tr>\n",
       "      <th>No</th>\n",
       "      <td>0.275161</td>\n",
       "      <td>0.052789</td>\n",
       "      <td>0.32795</td>\n",
       "    </tr>\n",
       "    <tr>\n",
       "      <th>Yes</th>\n",
       "      <td>0.456258</td>\n",
       "      <td>0.215792</td>\n",
       "      <td>0.67205</td>\n",
       "    </tr>\n",
       "    <tr>\n",
       "      <th>All</th>\n",
       "      <td>0.731419</td>\n",
       "      <td>0.268581</td>\n",
       "      <td>1.00000</td>\n",
       "    </tr>\n",
       "  </tbody>\n",
       "</table>\n",
       "</div>"
      ],
      "text/plain": [
       "Churn Label                No       Yes      All\n",
       "Unlimited Data Plan                             \n",
       "No                   0.275161  0.052789  0.32795\n",
       "Yes                  0.456258  0.215792  0.67205\n",
       "All                  0.731419  0.268581  1.00000"
      ]
     },
     "execution_count": 30,
     "metadata": {},
     "output_type": "execute_result"
    }
   ],
   "source": [
    "pd.crosstab(df['Unlimited Data Plan'], df['Churn Label'],margins=True,normalize='all')"
   ]
  },
  {
   "cell_type": "code",
   "execution_count": 31,
   "id": "91065dec",
   "metadata": {},
   "outputs": [
    {
     "data": {
      "text/html": [
       "<div>\n",
       "<style scoped>\n",
       "    .dataframe tbody tr th:only-of-type {\n",
       "        vertical-align: middle;\n",
       "    }\n",
       "\n",
       "    .dataframe tbody tr th {\n",
       "        vertical-align: top;\n",
       "    }\n",
       "\n",
       "    .dataframe thead th {\n",
       "        text-align: right;\n",
       "    }\n",
       "</style>\n",
       "<table border=\"1\" class=\"dataframe\">\n",
       "  <thead>\n",
       "    <tr style=\"text-align: right;\">\n",
       "      <th></th>\n",
       "      <th>Customer ID</th>\n",
       "      <th>Churn Label</th>\n",
       "      <th>Account Length (in months)</th>\n",
       "      <th>Local Calls</th>\n",
       "      <th>Local Mins</th>\n",
       "      <th>Intl Calls</th>\n",
       "      <th>Intl Mins</th>\n",
       "      <th>Intl Active</th>\n",
       "      <th>Intl Plan</th>\n",
       "      <th>Extra International Charges</th>\n",
       "      <th>...</th>\n",
       "      <th>Group</th>\n",
       "      <th>Number of Customers in Group</th>\n",
       "      <th>Device Protection &amp; Online Backup</th>\n",
       "      <th>Contract Type</th>\n",
       "      <th>Payment Method</th>\n",
       "      <th>Monthly Charge</th>\n",
       "      <th>Total Charges</th>\n",
       "      <th>Churn Category</th>\n",
       "      <th>Churn Reason</th>\n",
       "      <th>Account Length (in years)</th>\n",
       "    </tr>\n",
       "  </thead>\n",
       "  <tbody>\n",
       "    <tr>\n",
       "      <th>40</th>\n",
       "      <td>7466-XCMA</td>\n",
       "      <td>Yes</td>\n",
       "      <td>61</td>\n",
       "      <td>107</td>\n",
       "      <td>242.5</td>\n",
       "      <td>0.0</td>\n",
       "      <td>0.0</td>\n",
       "      <td>No</td>\n",
       "      <td>no</td>\n",
       "      <td>0.0</td>\n",
       "      <td>...</td>\n",
       "      <td>No</td>\n",
       "      <td>0</td>\n",
       "      <td>No</td>\n",
       "      <td>Month-to-Month</td>\n",
       "      <td>Direct Debit</td>\n",
       "      <td>45</td>\n",
       "      <td>2717</td>\n",
       "      <td>NaN</td>\n",
       "      <td>NaN</td>\n",
       "      <td>More than 5</td>\n",
       "    </tr>\n",
       "    <tr>\n",
       "      <th>228</th>\n",
       "      <td>9653-TWSS</td>\n",
       "      <td>Yes</td>\n",
       "      <td>16</td>\n",
       "      <td>32</td>\n",
       "      <td>98.6</td>\n",
       "      <td>64.0</td>\n",
       "      <td>180.8</td>\n",
       "      <td>Yes</td>\n",
       "      <td>yes</td>\n",
       "      <td>0.0</td>\n",
       "      <td>...</td>\n",
       "      <td>No</td>\n",
       "      <td>0</td>\n",
       "      <td>No</td>\n",
       "      <td>One Year</td>\n",
       "      <td>Direct Debit</td>\n",
       "      <td>23</td>\n",
       "      <td>377</td>\n",
       "      <td>NaN</td>\n",
       "      <td>NaN</td>\n",
       "      <td>2-years</td>\n",
       "    </tr>\n",
       "    <tr>\n",
       "      <th>239</th>\n",
       "      <td>5509-KHCT</td>\n",
       "      <td>Yes</td>\n",
       "      <td>23</td>\n",
       "      <td>105</td>\n",
       "      <td>348.6</td>\n",
       "      <td>23.0</td>\n",
       "      <td>285.2</td>\n",
       "      <td>Yes</td>\n",
       "      <td>yes</td>\n",
       "      <td>0.0</td>\n",
       "      <td>...</td>\n",
       "      <td>No</td>\n",
       "      <td>0</td>\n",
       "      <td>No</td>\n",
       "      <td>Two Year</td>\n",
       "      <td>Credit Card</td>\n",
       "      <td>16</td>\n",
       "      <td>364</td>\n",
       "      <td>NaN</td>\n",
       "      <td>NaN</td>\n",
       "      <td>2-years</td>\n",
       "    </tr>\n",
       "    <tr>\n",
       "      <th>318</th>\n",
       "      <td>9843-UGSQ</td>\n",
       "      <td>Yes</td>\n",
       "      <td>29</td>\n",
       "      <td>113</td>\n",
       "      <td>205.2</td>\n",
       "      <td>116.0</td>\n",
       "      <td>232.0</td>\n",
       "      <td>Yes</td>\n",
       "      <td>no</td>\n",
       "      <td>116.0</td>\n",
       "      <td>...</td>\n",
       "      <td>No</td>\n",
       "      <td>0</td>\n",
       "      <td>No</td>\n",
       "      <td>Month-to-Month</td>\n",
       "      <td>Paper Check</td>\n",
       "      <td>30</td>\n",
       "      <td>872</td>\n",
       "      <td>NaN</td>\n",
       "      <td>NaN</td>\n",
       "      <td>3-years</td>\n",
       "    </tr>\n",
       "    <tr>\n",
       "      <th>408</th>\n",
       "      <td>8079-UPTX</td>\n",
       "      <td>Yes</td>\n",
       "      <td>9</td>\n",
       "      <td>48</td>\n",
       "      <td>136.5</td>\n",
       "      <td>90.0</td>\n",
       "      <td>84.6</td>\n",
       "      <td>Yes</td>\n",
       "      <td>no</td>\n",
       "      <td>21.2</td>\n",
       "      <td>...</td>\n",
       "      <td>No</td>\n",
       "      <td>0</td>\n",
       "      <td>No</td>\n",
       "      <td>Month-to-Month</td>\n",
       "      <td>Credit Card</td>\n",
       "      <td>60</td>\n",
       "      <td>545</td>\n",
       "      <td>NaN</td>\n",
       "      <td>NaN</td>\n",
       "      <td>1-year</td>\n",
       "    </tr>\n",
       "    <tr>\n",
       "      <th>...</th>\n",
       "      <td>...</td>\n",
       "      <td>...</td>\n",
       "      <td>...</td>\n",
       "      <td>...</td>\n",
       "      <td>...</td>\n",
       "      <td>...</td>\n",
       "      <td>...</td>\n",
       "      <td>...</td>\n",
       "      <td>...</td>\n",
       "      <td>...</td>\n",
       "      <td>...</td>\n",
       "      <td>...</td>\n",
       "      <td>...</td>\n",
       "      <td>...</td>\n",
       "      <td>...</td>\n",
       "      <td>...</td>\n",
       "      <td>...</td>\n",
       "      <td>...</td>\n",
       "      <td>...</td>\n",
       "      <td>...</td>\n",
       "      <td>...</td>\n",
       "    </tr>\n",
       "    <tr>\n",
       "      <th>6681</th>\n",
       "      <td>8708-NXSF</td>\n",
       "      <td>Yes</td>\n",
       "      <td>1</td>\n",
       "      <td>4</td>\n",
       "      <td>12.0</td>\n",
       "      <td>0.0</td>\n",
       "      <td>0.0</td>\n",
       "      <td>No</td>\n",
       "      <td>no</td>\n",
       "      <td>0.0</td>\n",
       "      <td>...</td>\n",
       "      <td>Yes</td>\n",
       "      <td>5</td>\n",
       "      <td>No</td>\n",
       "      <td>Month-to-Month</td>\n",
       "      <td>Credit Card</td>\n",
       "      <td>14</td>\n",
       "      <td>14</td>\n",
       "      <td>Dissatisfaction</td>\n",
       "      <td>Service dissatisfaction</td>\n",
       "      <td>1-year</td>\n",
       "    </tr>\n",
       "    <tr>\n",
       "      <th>6682</th>\n",
       "      <td>2940-QHVU</td>\n",
       "      <td>Yes</td>\n",
       "      <td>3</td>\n",
       "      <td>6</td>\n",
       "      <td>16.8</td>\n",
       "      <td>0.0</td>\n",
       "      <td>0.0</td>\n",
       "      <td>No</td>\n",
       "      <td>no</td>\n",
       "      <td>0.0</td>\n",
       "      <td>...</td>\n",
       "      <td>Yes</td>\n",
       "      <td>2</td>\n",
       "      <td>No</td>\n",
       "      <td>Month-to-Month</td>\n",
       "      <td>Paper Check</td>\n",
       "      <td>19</td>\n",
       "      <td>52</td>\n",
       "      <td>Competitor</td>\n",
       "      <td>Competitor offered higher download speeds</td>\n",
       "      <td>1-year</td>\n",
       "    </tr>\n",
       "    <tr>\n",
       "      <th>6683</th>\n",
       "      <td>3033-TMYG</td>\n",
       "      <td>Yes</td>\n",
       "      <td>1</td>\n",
       "      <td>7</td>\n",
       "      <td>15.0</td>\n",
       "      <td>0.0</td>\n",
       "      <td>0.0</td>\n",
       "      <td>No</td>\n",
       "      <td>no</td>\n",
       "      <td>0.0</td>\n",
       "      <td>...</td>\n",
       "      <td>Yes</td>\n",
       "      <td>3</td>\n",
       "      <td>Yes</td>\n",
       "      <td>Month-to-Month</td>\n",
       "      <td>Direct Debit</td>\n",
       "      <td>20</td>\n",
       "      <td>20</td>\n",
       "      <td>Competitor</td>\n",
       "      <td>Competitor offered higher download speeds</td>\n",
       "      <td>1-year</td>\n",
       "    </tr>\n",
       "    <tr>\n",
       "      <th>6684</th>\n",
       "      <td>7029-XDVM</td>\n",
       "      <td>Yes</td>\n",
       "      <td>6</td>\n",
       "      <td>20</td>\n",
       "      <td>46.9</td>\n",
       "      <td>0.0</td>\n",
       "      <td>0.0</td>\n",
       "      <td>No</td>\n",
       "      <td>no</td>\n",
       "      <td>0.0</td>\n",
       "      <td>...</td>\n",
       "      <td>Yes</td>\n",
       "      <td>6</td>\n",
       "      <td>Yes</td>\n",
       "      <td>Month-to-Month</td>\n",
       "      <td>Paper Check</td>\n",
       "      <td>18</td>\n",
       "      <td>108</td>\n",
       "      <td>Competitor</td>\n",
       "      <td>Competitor made better offer</td>\n",
       "      <td>1-year</td>\n",
       "    </tr>\n",
       "    <tr>\n",
       "      <th>6685</th>\n",
       "      <td>6614-NAJG</td>\n",
       "      <td>Yes</td>\n",
       "      <td>3</td>\n",
       "      <td>6</td>\n",
       "      <td>15.4</td>\n",
       "      <td>0.0</td>\n",
       "      <td>0.0</td>\n",
       "      <td>No</td>\n",
       "      <td>no</td>\n",
       "      <td>0.0</td>\n",
       "      <td>...</td>\n",
       "      <td>Yes</td>\n",
       "      <td>5</td>\n",
       "      <td>No</td>\n",
       "      <td>Month-to-Month</td>\n",
       "      <td>Credit Card</td>\n",
       "      <td>15</td>\n",
       "      <td>46</td>\n",
       "      <td>Attitude</td>\n",
       "      <td>Attitude of support person</td>\n",
       "      <td>1-year</td>\n",
       "    </tr>\n",
       "  </tbody>\n",
       "</table>\n",
       "<p>1443 rows × 30 columns</p>\n",
       "</div>"
      ],
      "text/plain": [
       "     Customer ID Churn Label  Account Length (in months)  Local Calls  \\\n",
       "40     7466-XCMA         Yes                          61          107   \n",
       "228    9653-TWSS         Yes                          16           32   \n",
       "239    5509-KHCT         Yes                          23          105   \n",
       "318    9843-UGSQ         Yes                          29          113   \n",
       "408    8079-UPTX         Yes                           9           48   \n",
       "...          ...         ...                         ...          ...   \n",
       "6681   8708-NXSF         Yes                           1            4   \n",
       "6682   2940-QHVU         Yes                           3            6   \n",
       "6683   3033-TMYG         Yes                           1            7   \n",
       "6684   7029-XDVM         Yes                           6           20   \n",
       "6685   6614-NAJG         Yes                           3            6   \n",
       "\n",
       "      Local Mins  Intl Calls  Intl Mins Intl Active Intl Plan  \\\n",
       "40         242.5         0.0        0.0          No        no   \n",
       "228         98.6        64.0      180.8         Yes       yes   \n",
       "239        348.6        23.0      285.2         Yes       yes   \n",
       "318        205.2       116.0      232.0         Yes        no   \n",
       "408        136.5        90.0       84.6         Yes        no   \n",
       "...          ...         ...        ...         ...       ...   \n",
       "6681        12.0         0.0        0.0          No        no   \n",
       "6682        16.8         0.0        0.0          No        no   \n",
       "6683        15.0         0.0        0.0          No        no   \n",
       "6684        46.9         0.0        0.0          No        no   \n",
       "6685        15.4         0.0        0.0          No        no   \n",
       "\n",
       "      Extra International Charges  ...  Group  Number of Customers in Group  \\\n",
       "40                            0.0  ...     No                             0   \n",
       "228                           0.0  ...     No                             0   \n",
       "239                           0.0  ...     No                             0   \n",
       "318                         116.0  ...     No                             0   \n",
       "408                          21.2  ...     No                             0   \n",
       "...                           ...  ...    ...                           ...   \n",
       "6681                          0.0  ...    Yes                             5   \n",
       "6682                          0.0  ...    Yes                             2   \n",
       "6683                          0.0  ...    Yes                             3   \n",
       "6684                          0.0  ...    Yes                             6   \n",
       "6685                          0.0  ...    Yes                             5   \n",
       "\n",
       "     Device Protection & Online Backup   Contract Type Payment Method  \\\n",
       "40                                  No  Month-to-Month   Direct Debit   \n",
       "228                                 No        One Year   Direct Debit   \n",
       "239                                 No        Two Year    Credit Card   \n",
       "318                                 No  Month-to-Month    Paper Check   \n",
       "408                                 No  Month-to-Month    Credit Card   \n",
       "...                                ...             ...            ...   \n",
       "6681                                No  Month-to-Month    Credit Card   \n",
       "6682                                No  Month-to-Month    Paper Check   \n",
       "6683                               Yes  Month-to-Month   Direct Debit   \n",
       "6684                               Yes  Month-to-Month    Paper Check   \n",
       "6685                                No  Month-to-Month    Credit Card   \n",
       "\n",
       "     Monthly Charge Total Charges   Churn Category  \\\n",
       "40               45          2717              NaN   \n",
       "228              23           377              NaN   \n",
       "239              16           364              NaN   \n",
       "318              30           872              NaN   \n",
       "408              60           545              NaN   \n",
       "...             ...           ...              ...   \n",
       "6681             14            14  Dissatisfaction   \n",
       "6682             19            52       Competitor   \n",
       "6683             20            20       Competitor   \n",
       "6684             18           108       Competitor   \n",
       "6685             15            46         Attitude   \n",
       "\n",
       "                                   Churn Reason Account Length (in years)  \n",
       "40                                          NaN               More than 5  \n",
       "228                                         NaN                   2-years  \n",
       "239                                         NaN                   2-years  \n",
       "318                                         NaN                   3-years  \n",
       "408                                         NaN                    1-year  \n",
       "...                                         ...                       ...  \n",
       "6681                    Service dissatisfaction                    1-year  \n",
       "6682  Competitor offered higher download speeds                    1-year  \n",
       "6683  Competitor offered higher download speeds                    1-year  \n",
       "6684               Competitor made better offer                    1-year  \n",
       "6685                 Attitude of support person                    1-year  \n",
       "\n",
       "[1443 rows x 30 columns]"
      ]
     },
     "execution_count": 31,
     "metadata": {},
     "output_type": "execute_result"
    }
   ],
   "source": [
    "df[(df[\"Unlimited Data Plan\"]=='Yes')&(df[\"Churn Label\"]=='Yes')]"
   ]
  },
  {
   "cell_type": "code",
   "execution_count": 32,
   "id": "9313c432",
   "metadata": {},
   "outputs": [
    {
     "data": {
      "text/html": [
       "<div>\n",
       "<style scoped>\n",
       "    .dataframe tbody tr th:only-of-type {\n",
       "        vertical-align: middle;\n",
       "    }\n",
       "\n",
       "    .dataframe tbody tr th {\n",
       "        vertical-align: top;\n",
       "    }\n",
       "\n",
       "    .dataframe thead th {\n",
       "        text-align: right;\n",
       "    }\n",
       "</style>\n",
       "<table border=\"1\" class=\"dataframe\">\n",
       "  <thead>\n",
       "    <tr style=\"text-align: right;\">\n",
       "      <th>Churn Label</th>\n",
       "      <th>No</th>\n",
       "      <th>Yes</th>\n",
       "      <th>All</th>\n",
       "    </tr>\n",
       "    <tr>\n",
       "      <th>Unlimited Data Plan</th>\n",
       "      <th></th>\n",
       "      <th></th>\n",
       "      <th></th>\n",
       "    </tr>\n",
       "  </thead>\n",
       "  <tbody>\n",
       "    <tr>\n",
       "      <th>No</th>\n",
       "      <td>0.275161</td>\n",
       "      <td>0.052789</td>\n",
       "      <td>0.32795</td>\n",
       "    </tr>\n",
       "    <tr>\n",
       "      <th>Yes</th>\n",
       "      <td>0.456258</td>\n",
       "      <td>0.215792</td>\n",
       "      <td>0.67205</td>\n",
       "    </tr>\n",
       "    <tr>\n",
       "      <th>All</th>\n",
       "      <td>0.731419</td>\n",
       "      <td>0.268581</td>\n",
       "      <td>1.00000</td>\n",
       "    </tr>\n",
       "  </tbody>\n",
       "</table>\n",
       "</div>"
      ],
      "text/plain": [
       "Churn Label                No       Yes      All\n",
       "Unlimited Data Plan                             \n",
       "No                   0.275161  0.052789  0.32795\n",
       "Yes                  0.456258  0.215792  0.67205\n",
       "All                  0.731419  0.268581  1.00000"
      ]
     },
     "execution_count": 32,
     "metadata": {},
     "output_type": "execute_result"
    }
   ],
   "source": [
    "pd.crosstab(df['Unlimited Data Plan'], df['Churn Label'],margins=True,normalize='all')"
   ]
  },
  {
   "cell_type": "code",
   "execution_count": 31,
   "id": "965c9c6d",
   "metadata": {},
   "outputs": [
    {
     "data": {
      "text/plain": [
       "<AxesSubplot:xlabel='Gender', ylabel='count'>"
      ]
     },
     "execution_count": 31,
     "metadata": {},
     "output_type": "execute_result"
    },
    {
     "data": {
      "image/png": "[encoded data removed]",
      "text/plain": [
       "<Figure size 432x288 with 1 Axes>"
      ]
     },
     "metadata": {
      "needs_background": "light"
     },
     "output_type": "display_data"
    }
   ],
   "source": [
    "#visualization \n",
    "#churn Label by Gender\n",
    "\n",
    "sns.countplot(x='Gender',hue='Churn Label',data=df)"
   ]
  },
  {
   "cell_type": "code",
   "execution_count": 92,
   "id": "8e41de3e",
   "metadata": {},
   "outputs": [
    {
     "data": {
      "text/plain": [
       "<AxesSubplot:xlabel='Age', ylabel='Contract Type'>"
      ]
     },
     "execution_count": 92,
     "metadata": {},
     "output_type": "execute_result"
    },
    {
     "data": {
      "image/png": "[encoded data removed]",
      "text/plain": [
       "<Figure size 432x288 with 1 Axes>"
      ]
     },
     "metadata": {
      "needs_background": "light"
     },
     "output_type": "display_data"
    }
   ],
   "source": [
    "#churn by age\n",
    "sns.barplot(x='Age',y='Contract Type',hue='Churn Label',data=df)"
   ]
  },
  {
   "cell_type": "code",
   "execution_count": 97,
   "id": "a0a689f8",
   "metadata": {},
   "outputs": [
    {
     "data": {
      "text/plain": [
       "<AxesSubplot:xlabel='State', ylabel='count'>"
      ]
     },
     "execution_count": 97,
     "metadata": {},
     "output_type": "execute_result"
    },
    {
     "data": {
      "image/png": "[encoded data removed]",
      "text/plain": [
       "<Figure size 1152x648 with 1 Axes>"
      ]
     },
     "metadata": {
      "needs_background": "light"
     },
     "output_type": "display_data"
    }
   ],
   "source": [
    "plt.figure(figsize=(16,9))\n",
    "sns.countplot(x='State',hue='Churn Label',data=df)"
   ]
  },
  {
   "cell_type": "code",
   "execution_count": 37,
   "id": "9153f5f9",
   "metadata": {},
   "outputs": [
    {
     "data": {
      "text/plain": [
       "<AxesSubplot:xlabel='Contract Type', ylabel='count'>"
      ]
     },
     "execution_count": 37,
     "metadata": {},
     "output_type": "execute_result"
    },
    {
     "data": {
      "image/png": "[encoded data removed]",
      "text/plain": [
       "<Figure size 1152x648 with 1 Axes>"
      ]
     },
     "metadata": {
      "needs_background": "light"
     },
     "output_type": "display_data"
    }
   ],
   "source": [
    "#churn count by Contract type\n",
    "plt.figure(figsize=(16,9))\n",
    "sns.countplot(x='Contract Type',hue='Churn Label',data=df)\n"
   ]
  },
  {
   "cell_type": "code",
   "execution_count": 38,
   "id": "15096664",
   "metadata": {},
   "outputs": [
    {
     "data": {
      "text/plain": [
       "<AxesSubplot:xlabel='Account Length (in months)', ylabel='count'>"
      ]
     },
     "execution_count": 38,
     "metadata": {},
     "output_type": "execute_result"
    },
    {
     "data": {
      "image/png": "[encoded data removed]",
      "text/plain": [
       "<Figure size 432x288 with 1 Axes>"
      ]
     },
     "metadata": {
      "needs_background": "light"
     },
     "output_type": "display_data"
    }
   ],
   "source": [
    "#customer churn by account length\n",
    "sns.countplot(x='Account Length (in months)',hue='Churn Label',data=df)"
   ]
  },
  {
   "cell_type": "code",
   "execution_count": 14,
   "id": "c2857b5c",
   "metadata": {
    "scrolled": false
   },
   "outputs": [
    {
     "data": {
      "text/plain": [
       "<AxesSubplot:xlabel='Payment Method', ylabel='count'>"
      ]
     },
     "execution_count": 14,
     "metadata": {},
     "output_type": "execute_result"
    },
    {
     "data": {
      "image/png": "[encoded data removed]",
      "text/plain": [
       "<Figure size 1152x648 with 1 Axes>"
      ]
     },
     "metadata": {
      "needs_background": "light"
     },
     "output_type": "display_data"
    }
   ],
   "source": [
    "#payment method vs contract type\n",
    "plt.figure(figsize=(16,9))\n",
    "sns.countplot(x='Payment Method',hue='Churn Label',data=df)"
   ]
  },
  {
   "cell_type": "code",
   "execution_count": 41,
   "id": "bdbed52e",
   "metadata": {
    "scrolled": false
   },
   "outputs": [
    {
     "data": {
      "text/plain": [
       "<AxesSubplot:xlabel='Account Length (in months)', ylabel='count'>"
      ]
     },
     "execution_count": 41,
     "metadata": {},
     "output_type": "execute_result"
    },
    {
     "data": {
      "image/png": "[encoded data removed]",
      "text/plain": [
       "<Figure size 1152x648 with 1 Axes>"
      ]
     },
     "metadata": {
      "needs_background": "light"
     },
     "output_type": "display_data"
    }
   ],
   "source": [
    "#checking contract type with account length\n",
    "plt.figure(figsize=(16,9))\n",
    "sns.countplot(x='Account Length (in months)',hue='Contract Type',data=df)"
   ]
  },
  {
   "cell_type": "code",
   "execution_count": 45,
   "id": "e26df447",
   "metadata": {},
   "outputs": [
    {
     "data": {
      "text/plain": [
       "<AxesSubplot:xlabel='Customer Service Calls', ylabel='Age'>"
      ]
     },
     "execution_count": 45,
     "metadata": {},
     "output_type": "execute_result"
    },
    {
     "data": {
      "image/png": "[encoded data removed]",
      "text/plain": [
       "<Figure size 1152x648 with 1 Axes>"
      ]
     },
     "metadata": {
      "needs_background": "light"
     },
     "output_type": "display_data"
    }
   ],
   "source": [
    "#customer Service Call vs age\n",
    "plt.figure(figsize=(16,9))\n",
    "sns.barplot(y='Age',x='Customer Service Calls',hue='Churn Label',data=df)"
   ]
  },
  {
   "cell_type": "code",
   "execution_count": 16,
   "id": "217ccf31",
   "metadata": {},
   "outputs": [
    {
     "data": {
      "text/plain": [
       "<AxesSubplot:xlabel='Churn Category', ylabel='count'>"
      ]
     },
     "execution_count": 16,
     "metadata": {},
     "output_type": "execute_result"
    },
    {
     "data": {
      "image/png": "[encoded data removed]",
      "text/plain": [
       "<Figure size 1152x648 with 1 Axes>"
      ]
     },
     "metadata": {
      "needs_background": "light"
     },
     "output_type": "display_data"
    }
   ],
   "source": [
    "#churn Category vs Churn Label\n",
    "plt.figure(figsize=(16,9))\n",
    "sns.countplot(x='Churn Category',hue='Churn Label',data=df)"
   ]
  },
  {
   "cell_type": "code",
   "execution_count": 80,
   "id": "e7d16962",
   "metadata": {},
   "outputs": [
    {
     "data": {
      "text/plain": [
       "<AxesSubplot:xlabel='Contract Type', ylabel='Extra International Charges'>"
      ]
     },
     "execution_count": 80,
     "metadata": {},
     "output_type": "execute_result"
    },
    {
     "data": {
      "image/png": "[encoded data removed]",
      "text/plain": [
       "<Figure size 432x288 with 1 Axes>"
      ]
     },
     "metadata": {
      "needs_background": "light"
     },
     "output_type": "display_data"
    }
   ],
   "source": [
    "sns.barplot(y='Extra International Charges',x='Contract Type',hue='Churn Label',data=df)"
   ]
  },
  {
   "cell_type": "code",
   "execution_count": 17,
   "id": "55ec08c8",
   "metadata": {},
   "outputs": [
    {
     "data": {
      "text/plain": [
       "<AxesSubplot:xlabel='Monthly Charge', ylabel='Count'>"
      ]
     },
     "execution_count": 17,
     "metadata": {},
     "output_type": "execute_result"
    },
    {
     "data": {
      "image/png": "[encoded data removed]",
      "text/plain": [
       "<Figure size 1152x648 with 1 Axes>"
      ]
     },
     "metadata": {
      "needs_background": "light"
     },
     "output_type": "display_data"
    }
   ],
   "source": [
    "plt.figure(figsize=(16,9))\n",
    "sns.histplot(x='Monthly Charge',hue='Churn Label',data=df)"
   ]
  },
  {
   "cell_type": "code",
   "execution_count": 48,
   "id": "627fcd32",
   "metadata": {},
   "outputs": [
    {
     "data": {
      "image/png": "[encoded data removed]",
      "text/plain": [
       "<Figure size 1152x648 with 1 Axes>"
      ]
     },
     "metadata": {
      "needs_background": "light"
     },
     "output_type": "display_data"
    }
   ],
   "source": [
    "plt.figure(figsize=(16,9))\n",
    "ax=sns.barplot(x='Churn Label',y='Local Calls',data=df)\n",
    "for p in ax.patches:\n",
    "    ax.annotate(f'\\n{p.get_height()}',(p.get_x()+0.2,p.get_height()),ha='center',va=\"top\",color = 'black',size=15)"
   ]
  },
  {
   "cell_type": "code",
   "execution_count": 33,
   "id": "619ef869",
   "metadata": {
    "scrolled": false
   },
   "outputs": [
    {
     "data": {
      "image/png": "[encoded data removed]",
      "text/plain": [
       "<Figure size 1152x648 with 2 Axes>"
      ]
     },
     "metadata": {
      "needs_background": "light"
     },
     "output_type": "display_data"
    }
   ],
   "source": [
    "#correlation matrix\n",
    "correlation = df.corr ()  \n",
    "plt.figure(figsize=(16,9))\n",
    "heatmap = sns.heatmap(correlation, annot = True)  "
   ]
  },
  {
   "cell_type": "code",
   "execution_count": 34,
   "id": "66a845b0",
   "metadata": {},
   "outputs": [
    {
     "data": {
      "text/plain": [
       "Index(['Customer ID', 'Churn Label', 'Account Length (in months)',\n",
       "       'Local Calls', 'Local Mins', 'Intl Calls', 'Intl Mins', 'Intl Active',\n",
       "       'Intl Plan', 'Extra International Charges', 'Customer Service Calls',\n",
       "       'Avg Monthly GB Download', 'Unlimited Data Plan', 'Extra Data Charges',\n",
       "       'State', 'Phone Number', 'Gender', 'Age', 'Under 30', 'Senior', 'Group',\n",
       "       'Number of Customers in Group', 'Device Protection & Online Backup',\n",
       "       'Contract Type', 'Payment Method', 'Monthly Charge', 'Total Charges',\n",
       "       'Churn Category', 'Churn Reason', 'Account Length (in years)'],\n",
       "      dtype='object')"
      ]
     },
     "execution_count": 34,
     "metadata": {},
     "output_type": "execute_result"
    }
   ],
   "source": [
    "df.columns"
   ]
  },
  {
   "cell_type": "code",
   "execution_count": 35,
   "id": "5d703c9a",
   "metadata": {},
   "outputs": [],
   "source": [
    "#label encoding for binary class variables \n",
    "binaryCols = [col for col in df.columns if df[col].dtype == \"O\" and df[col].nunique() == 2]"
   ]
  },
  {
   "cell_type": "code",
   "execution_count": 36,
   "id": "5461a346",
   "metadata": {},
   "outputs": [
    {
     "data": {
      "text/plain": [
       "['Churn Label',\n",
       " 'Intl Active',\n",
       " 'Intl Plan',\n",
       " 'Unlimited Data Plan',\n",
       " 'Under 30',\n",
       " 'Senior',\n",
       " 'Group',\n",
       " 'Device Protection & Online Backup']"
      ]
     },
     "execution_count": 36,
     "metadata": {},
     "output_type": "execute_result"
    }
   ],
   "source": [
    "binaryCols"
   ]
  },
  {
   "cell_type": "code",
   "execution_count": 37,
   "id": "b198e3b7",
   "metadata": {},
   "outputs": [
    {
     "data": {
      "text/html": [
       "<div>\n",
       "<style scoped>\n",
       "    .dataframe tbody tr th:only-of-type {\n",
       "        vertical-align: middle;\n",
       "    }\n",
       "\n",
       "    .dataframe tbody tr th {\n",
       "        vertical-align: top;\n",
       "    }\n",
       "\n",
       "    .dataframe thead th {\n",
       "        text-align: right;\n",
       "    }\n",
       "</style>\n",
       "<table border=\"1\" class=\"dataframe\">\n",
       "  <thead>\n",
       "    <tr style=\"text-align: right;\">\n",
       "      <th></th>\n",
       "      <th>Churn Label</th>\n",
       "      <th>Intl Active</th>\n",
       "      <th>Intl Plan</th>\n",
       "      <th>Unlimited Data Plan</th>\n",
       "      <th>Under 30</th>\n",
       "      <th>Senior</th>\n",
       "      <th>Group</th>\n",
       "      <th>Device Protection &amp; Online Backup</th>\n",
       "    </tr>\n",
       "  </thead>\n",
       "  <tbody>\n",
       "    <tr>\n",
       "      <th>0</th>\n",
       "      <td>No</td>\n",
       "      <td>No</td>\n",
       "      <td>no</td>\n",
       "      <td>Yes</td>\n",
       "      <td>No</td>\n",
       "      <td>No</td>\n",
       "      <td>No</td>\n",
       "      <td>No</td>\n",
       "    </tr>\n",
       "    <tr>\n",
       "      <th>1</th>\n",
       "      <td>No</td>\n",
       "      <td>No</td>\n",
       "      <td>no</td>\n",
       "      <td>Yes</td>\n",
       "      <td>No</td>\n",
       "      <td>No</td>\n",
       "      <td>No</td>\n",
       "      <td>Yes</td>\n",
       "    </tr>\n",
       "    <tr>\n",
       "      <th>2</th>\n",
       "      <td>No</td>\n",
       "      <td>No</td>\n",
       "      <td>yes</td>\n",
       "      <td>Yes</td>\n",
       "      <td>No</td>\n",
       "      <td>No</td>\n",
       "      <td>No</td>\n",
       "      <td>Yes</td>\n",
       "    </tr>\n",
       "    <tr>\n",
       "      <th>3</th>\n",
       "      <td>No</td>\n",
       "      <td>Yes</td>\n",
       "      <td>yes</td>\n",
       "      <td>Yes</td>\n",
       "      <td>No</td>\n",
       "      <td>No</td>\n",
       "      <td>No</td>\n",
       "      <td>No</td>\n",
       "    </tr>\n",
       "    <tr>\n",
       "      <th>4</th>\n",
       "      <td>No</td>\n",
       "      <td>Yes</td>\n",
       "      <td>yes</td>\n",
       "      <td>Yes</td>\n",
       "      <td>No</td>\n",
       "      <td>No</td>\n",
       "      <td>No</td>\n",
       "      <td>No</td>\n",
       "    </tr>\n",
       "  </tbody>\n",
       "</table>\n",
       "</div>"
      ],
      "text/plain": [
       "  Churn Label Intl Active Intl Plan Unlimited Data Plan Under 30 Senior Group  \\\n",
       "0          No          No        no                 Yes       No     No    No   \n",
       "1          No          No        no                 Yes       No     No    No   \n",
       "2          No          No       yes                 Yes       No     No    No   \n",
       "3          No         Yes       yes                 Yes       No     No    No   \n",
       "4          No         Yes       yes                 Yes       No     No    No   \n",
       "\n",
       "  Device Protection & Online Backup  \n",
       "0                                No  \n",
       "1                               Yes  \n",
       "2                               Yes  \n",
       "3                                No  \n",
       "4                                No  "
      ]
     },
     "execution_count": 37,
     "metadata": {},
     "output_type": "execute_result"
    }
   ],
   "source": [
    "df[binaryCols].head()"
   ]
  },
  {
   "cell_type": "code",
   "execution_count": 38,
   "id": "8d2fa632",
   "metadata": {},
   "outputs": [],
   "source": [
    "from sklearn.preprocessing import LabelEncoder\n",
    "def label_encoder(dataframe, binaryCol):\n",
    "    labelencoder = LabelEncoder()\n",
    "    dataframe[binaryCol] = labelencoder.fit_transform(dataframe[binaryCol])\n",
    "    return dataframe"
   ]
  },
  {
   "cell_type": "code",
   "execution_count": 39,
   "id": "db829079",
   "metadata": {},
   "outputs": [],
   "source": [
    "for col in binaryCols:\n",
    "    df = label_encoder(df, col)"
   ]
  },
  {
   "cell_type": "code",
   "execution_count": 40,
   "id": "0ce5e161",
   "metadata": {},
   "outputs": [
    {
     "data": {
      "text/plain": [
       "['Customer Service Calls',\n",
       " 'Gender',\n",
       " 'Number of Customers in Group',\n",
       " 'Contract Type',\n",
       " 'Payment Method',\n",
       " 'Churn Category',\n",
       " 'Account Length (in years)']"
      ]
     },
     "execution_count": 40,
     "metadata": {},
     "output_type": "execute_result"
    }
   ],
   "source": [
    "#one hot encoding columns\n",
    "oheCols = [col for col in df.columns if 10 >= df[col].nunique() > 2]\n",
    "\n",
    "oheCols"
   ]
  },
  {
   "cell_type": "code",
   "execution_count": 41,
   "id": "c46d81d1",
   "metadata": {},
   "outputs": [],
   "source": [
    "df.Gender.value_counts()\n",
    "df = df.loc[df[\"Gender\"].isin([\"Male\", \"Female\"])]"
   ]
  },
  {
   "cell_type": "code",
   "execution_count": 42,
   "id": "c7a068d8",
   "metadata": {},
   "outputs": [
    {
     "data": {
      "text/plain": [
       "['Customer Service Calls',\n",
       " 'Number of Customers in Group',\n",
       " 'Contract Type',\n",
       " 'Payment Method',\n",
       " 'Churn Category',\n",
       " 'Account Length (in years)']"
      ]
     },
     "execution_count": 42,
     "metadata": {},
     "output_type": "execute_result"
    }
   ],
   "source": [
    "oheCols = [col for col in df.columns if 10 >= df[col].nunique() > 2]\n",
    "\n",
    "oheCols"
   ]
  },
  {
   "cell_type": "code",
   "execution_count": 43,
   "id": "74fc3ddb",
   "metadata": {},
   "outputs": [],
   "source": [
    "def one_hot_encoder(dataframe, oheCols, drop_first=True):\n",
    "    dataframe = pd.get_dummies(dataframe, columns=oheCols, drop_first=drop_first)\n",
    "    return dataframe"
   ]
  },
  {
   "cell_type": "code",
   "execution_count": 44,
   "id": "060831b3",
   "metadata": {},
   "outputs": [],
   "source": [
    "df = one_hot_encoder(df, oheCols, drop_first=True)"
   ]
  },
  {
   "cell_type": "code",
   "execution_count": 45,
   "id": "20779326",
   "metadata": {},
   "outputs": [
    {
     "data": {
      "text/plain": [
       "Index(['Customer ID', 'Churn Label', 'Account Length (in months)',\n",
       "       'Local Calls', 'Local Mins', 'Intl Calls', 'Intl Mins', 'Intl Active',\n",
       "       'Intl Plan', 'Extra International Charges', 'Avg Monthly GB Download',\n",
       "       'Unlimited Data Plan', 'Extra Data Charges', 'State', 'Phone Number',\n",
       "       'Gender', 'Age', 'Under 30', 'Senior', 'Group',\n",
       "       'Device Protection & Online Backup', 'Monthly Charge', 'Total Charges',\n",
       "       'Churn Reason', 'Customer Service Calls_1', 'Customer Service Calls_2',\n",
       "       'Customer Service Calls_3', 'Customer Service Calls_4',\n",
       "       'Customer Service Calls_5', 'Number of Customers in Group_0',\n",
       "       'Number of Customers in Group_2', 'Number of Customers in Group_3',\n",
       "       'Number of Customers in Group_4', 'Number of Customers in Group_5',\n",
       "       'Number of Customers in Group_6', 'Contract Type_One Year',\n",
       "       'Contract Type_Two Year', 'Payment Method_Direct Debit',\n",
       "       'Payment Method_Paper Check', 'Churn Category_Competitor',\n",
       "       'Churn Category_Dissatisfaction', 'Churn Category_Other',\n",
       "       'Churn Category_Price', 'Account Length (in years)_2-years',\n",
       "       'Account Length (in years)_3-years',\n",
       "       'Account Length (in years)_4-years',\n",
       "       'Account Length (in years)_5-years',\n",
       "       'Account Length (in years)_More than 5'],\n",
       "      dtype='object')"
      ]
     },
     "execution_count": 45,
     "metadata": {},
     "output_type": "execute_result"
    }
   ],
   "source": [
    "df.columns"
   ]
  },
  {
   "cell_type": "code",
   "execution_count": 46,
   "id": "4abac2bd",
   "metadata": {},
   "outputs": [
    {
     "name": "stdout",
     "output_type": "stream",
     "text": [
      "<class 'pandas.core.frame.DataFrame'>\n",
      "Int64Index: 6680 entries, 0 to 6686\n",
      "Data columns (total 48 columns):\n",
      " #   Column                                 Non-Null Count  Dtype  \n",
      "---  ------                                 --------------  -----  \n",
      " 0   Customer ID                            6680 non-null   object \n",
      " 1   Churn Label                            6680 non-null   int32  \n",
      " 2   Account Length (in months)             6680 non-null   int64  \n",
      " 3   Local Calls                            6680 non-null   int64  \n",
      " 4   Local Mins                             6680 non-null   float64\n",
      " 5   Intl Calls                             6680 non-null   float64\n",
      " 6   Intl Mins                              6680 non-null   float64\n",
      " 7   Intl Active                            6680 non-null   int32  \n",
      " 8   Intl Plan                              6680 non-null   int32  \n",
      " 9   Extra International Charges            6680 non-null   float64\n",
      " 10  Avg Monthly GB Download                6680 non-null   int64  \n",
      " 11  Unlimited Data Plan                    6680 non-null   int32  \n",
      " 12  Extra Data Charges                     6680 non-null   int64  \n",
      " 13  State                                  6680 non-null   object \n",
      " 14  Phone Number                           6680 non-null   object \n",
      " 15  Gender                                 6680 non-null   object \n",
      " 16  Age                                    6680 non-null   int64  \n",
      " 17  Under 30                               6680 non-null   int32  \n",
      " 18  Senior                                 6680 non-null   int32  \n",
      " 19  Group                                  6680 non-null   int32  \n",
      " 20  Device Protection & Online Backup      6680 non-null   int32  \n",
      " 21  Monthly Charge                         6680 non-null   int64  \n",
      " 22  Total Charges                          6680 non-null   int64  \n",
      " 23  Churn Reason                           1767 non-null   object \n",
      " 24  Customer Service Calls_1               6680 non-null   uint8  \n",
      " 25  Customer Service Calls_2               6680 non-null   uint8  \n",
      " 26  Customer Service Calls_3               6680 non-null   uint8  \n",
      " 27  Customer Service Calls_4               6680 non-null   uint8  \n",
      " 28  Customer Service Calls_5               6680 non-null   uint8  \n",
      " 29  Number of Customers in Group_0         6680 non-null   uint8  \n",
      " 30  Number of Customers in Group_2         6680 non-null   uint8  \n",
      " 31  Number of Customers in Group_3         6680 non-null   uint8  \n",
      " 32  Number of Customers in Group_4         6680 non-null   uint8  \n",
      " 33  Number of Customers in Group_5         6680 non-null   uint8  \n",
      " 34  Number of Customers in Group_6         6680 non-null   uint8  \n",
      " 35  Contract Type_One Year                 6680 non-null   uint8  \n",
      " 36  Contract Type_Two Year                 6680 non-null   uint8  \n",
      " 37  Payment Method_Direct Debit            6680 non-null   uint8  \n",
      " 38  Payment Method_Paper Check             6680 non-null   uint8  \n",
      " 39  Churn Category_Competitor              6680 non-null   uint8  \n",
      " 40  Churn Category_Dissatisfaction         6680 non-null   uint8  \n",
      " 41  Churn Category_Other                   6680 non-null   uint8  \n",
      " 42  Churn Category_Price                   6680 non-null   uint8  \n",
      " 43  Account Length (in years)_2-years      6680 non-null   uint8  \n",
      " 44  Account Length (in years)_3-years      6680 non-null   uint8  \n",
      " 45  Account Length (in years)_4-years      6680 non-null   uint8  \n",
      " 46  Account Length (in years)_5-years      6680 non-null   uint8  \n",
      " 47  Account Length (in years)_More than 5  6680 non-null   uint8  \n",
      "dtypes: float64(4), int32(8), int64(7), object(5), uint8(24)\n",
      "memory usage: 1.2+ MB\n"
     ]
    }
   ],
   "source": [
    "df.info()"
   ]
  },
  {
   "cell_type": "code",
   "execution_count": 47,
   "id": "9f07867c",
   "metadata": {},
   "outputs": [],
   "source": [
    "y = df[\"Churn Label\"]\n",
    "\n",
    "x = df.drop([\"Churn Label\",\"State\",\"Gender\",\"Phone Number\",\"Customer ID\",\"Churn Category_Competitor\",\"Churn Category_Dissatisfaction\",\"Churn Category_Other\",\"Churn Category_Price\",\"Churn Reason\"], axis=1)"
   ]
  },
  {
   "cell_type": "code",
   "execution_count": 48,
   "id": "fc14a5ae",
   "metadata": {},
   "outputs": [],
   "source": [
    "#oversampling \n",
    "from imblearn.over_sampling import SMOTE"
   ]
  },
  {
   "cell_type": "code",
   "execution_count": 49,
   "id": "45696073",
   "metadata": {},
   "outputs": [],
   "source": [
    "smote = SMOTE(random_state=42)\n",
    "X_resampled, y_resampled = smote.fit_resample(x, y)"
   ]
  },
  {
   "cell_type": "code",
   "execution_count": 50,
   "id": "210708b0",
   "metadata": {},
   "outputs": [],
   "source": [
    "#train and Test Split\n",
    "from sklearn.model_selection import train_test_split\n",
    "x_train, x_test, y_train, y_test = train_test_split(X_resampled, y_resampled, test_size=0.30, random_state=17)"
   ]
  },
  {
   "cell_type": "code",
   "execution_count": 51,
   "id": "9bebc8e7",
   "metadata": {},
   "outputs": [
    {
     "name": "stdout",
     "output_type": "stream",
     "text": [
      "===============TRAIN=================\n",
      "Staying Rate: 50.29%\n",
      "Leaving Rate: 49.71%\n",
      "===============TEST=================\n",
      "Staying Rate: 49.32%\n",
      "Leaving Rate: 50.68%\n"
     ]
    }
   ],
   "source": [
    "#finding churn rate for all data\n",
    "stay = (y_train.value_counts()[0] / y_train.shape)[0]\n",
    "leave = (y_train.value_counts()[1] / y_train.shape)[0]\n",
    "\n",
    "print(\"===============TRAIN=================\")\n",
    "print(f\"Staying Rate: {stay * 100:.2f}%\")\n",
    "print(f\"Leaving Rate: {leave * 100 :.2f}%\")\n",
    "\n",
    "stay = (y_test.value_counts()[0] / y_test.shape)[0]\n",
    "leave = (y_test.value_counts()[1] / y_test.shape)[0]\n",
    "\n",
    "print(\"===============TEST=================\")\n",
    "print(f\"Staying Rate: {stay * 100:.2f}%\")\n",
    "print(f\"Leaving Rate: {leave * 100 :.2f}%\")"
   ]
  },
  {
   "cell_type": "code",
   "execution_count": 52,
   "id": "8ebc7895",
   "metadata": {},
   "outputs": [],
   "source": [
    "# Custom function for classification metrics\n",
    "from sklearn.metrics import confusion_matrix, accuracy_score, classification_report, roc_auc_score\n",
    "\n",
    "def evaluate(model, X_train, X_test, y_train, y_test):\n",
    "    y_test_pred = model.predict(X_test)\n",
    "    y_train_pred = model.predict(X_train)\n",
    "\n",
    "    print(\"TRAINIG RESULTS: \\n===============================\")\n",
    "    clf_report = pd.DataFrame(classification_report(y_train, y_train_pred, output_dict=True))\n",
    "    print(f\"CONFUSION MATRIX:\\n{confusion_matrix(y_train, y_train_pred)}\")\n",
    "    print(f\"ACCURACY SCORE:\\n{accuracy_score(y_train, y_train_pred):.4f}\")\n",
    "    print(f\"CLASSIFICATION REPORT:\\n{clf_report}\")\n",
    "\n",
    "    print(\"TESTING RESULTS: \\n===============================\")\n",
    "    clf_report = pd.DataFrame(classification_report(y_test, y_test_pred, output_dict=True))\n",
    "    print(f\"CONFUSION MATRIX:\\n{confusion_matrix(y_test, y_test_pred)}\")\n",
    "    print(f\"ACCURACY SCORE:\\n{accuracy_score(y_test, y_test_pred):.4f}\")\n",
    "    print(f\"CLASSIFICATION REPORT:\\n{clf_report}\")"
   ]
  },
  {
   "cell_type": "code",
   "execution_count": 53,
   "id": "23c97cc9",
   "metadata": {},
   "outputs": [
    {
     "name": "stdout",
     "output_type": "stream",
     "text": [
      "TRAINIG RESULTS: \n",
      "===============================\n",
      "CONFUSION MATRIX:\n",
      "[[2838  602]\n",
      " [ 335 3065]]\n",
      "ACCURACY SCORE:\n",
      "0.8630\n",
      "CLASSIFICATION REPORT:\n",
      "                     0            1  accuracy    macro avg  weighted avg\n",
      "precision     0.894422     0.835833  0.863012     0.865127      0.865299\n",
      "recall        0.825000     0.901471  0.863012     0.863235      0.863012\n",
      "f1-score      0.858309     0.867412  0.863012     0.862861      0.862834\n",
      "support    3440.000000  3400.000000  0.863012  6840.000000   6840.000000\n",
      "TESTING RESULTS: \n",
      "===============================\n",
      "CONFUSION MATRIX:\n",
      "[[1207  239]\n",
      " [ 174 1312]]\n",
      "ACCURACY SCORE:\n",
      "0.8591\n",
      "CLASSIFICATION REPORT:\n",
      "                     0            1  accuracy    macro avg  weighted avg\n",
      "precision     0.874004     0.845906  0.859141     0.859955      0.859763\n",
      "recall        0.834716     0.882907  0.859141     0.858812      0.859141\n",
      "f1-score      0.853909     0.864011  0.859141     0.858960      0.859029\n",
      "support    1446.000000  1486.000000  0.859141  2932.000000   2932.000000\n"
     ]
    }
   ],
   "source": [
    "#logistic Regression\n",
    "from sklearn.linear_model import LogisticRegression\n",
    "\n",
    "lr_clf = LogisticRegression(solver='liblinear', penalty='l1')\n",
    "lr_clf.fit(x_train, y_train)\n",
    "\n",
    "evaluate(lr_clf, x_train, x_test, y_train, y_test)"
   ]
  },
  {
   "cell_type": "code",
   "execution_count": 54,
   "id": "09a0eb62",
   "metadata": {},
   "outputs": [],
   "source": [
    "# Custom function for roc curve and precision-recall charts\n",
    "from sklearn.metrics import precision_recall_curve, roc_curve\n",
    "\n",
    "def plot_precision_recall_vs_threshold(precisions, recalls, thresholds):\n",
    "    plt.plot(thresholds, precisions[:-1], \"b--\", label=\"Precision\")\n",
    "    plt.plot(thresholds, recalls[:-1], \"g--\", label=\"Recall\")\n",
    "    plt.xlabel(\"Threshold\")\n",
    "    plt.legend(loc=\"upper left\")\n",
    "    plt.title(\"Precision/Recall Tradeoff\")\n",
    "    \n",
    "\n",
    "def plot_roc_curve(fpr, tpr, label=None):\n",
    "    plt.plot(fpr, tpr, linewidth=2, label=label)\n",
    "    plt.plot([0, 1], [0, 1], \"k--\")\n",
    "    plt.axis([0, 1, 0, 1])\n",
    "    plt.xlabel('False Positive Rate')\n",
    "    plt.ylabel('True Positive Rate')\n",
    "    plt.title('ROC Curve')"
   ]
  },
  {
   "cell_type": "code",
   "execution_count": 55,
   "id": "52481e2c",
   "metadata": {},
   "outputs": [
    {
     "data": {
      "image/png": "[encoded data removed]",
      "text/plain": [
       "<Figure size 1008x1800 with 3 Axes>"
      ]
     },
     "metadata": {
      "needs_background": "light"
     },
     "output_type": "display_data"
    }
   ],
   "source": [
    "# curves for Logistic Regression\n",
    "precisions, recalls, thresholds = precision_recall_curve(y_test, lr_clf.predict(x_test))\n",
    "plt.figure(figsize=(14, 25))\n",
    "plt.subplot(4, 2, 1)\n",
    "plot_precision_recall_vs_threshold(precisions, recalls, thresholds)\n",
    "\n",
    "plt.subplot(4, 2, 2)\n",
    "plt.plot(precisions, recalls)\n",
    "plt.xlabel(\"Precision\")\n",
    "plt.ylabel(\"Recall\")\n",
    "plt.title(\"PR Curve: precisions/recalls tradeoff\");\n",
    "\n",
    "plt.subplot(4, 2, 3)\n",
    "fpr, tpr, thresholds = roc_curve(y_test, lr_clf.predict(x_test))\n",
    "plot_roc_curve(fpr, tpr)"
   ]
  },
  {
   "cell_type": "code",
   "execution_count": 56,
   "id": "a2318af9",
   "metadata": {},
   "outputs": [],
   "source": [
    "# roc scores for every ML model\n",
    "scores_dict = {\n",
    "    'Logistic Regression': {\n",
    "        'Train': roc_auc_score(y_train, lr_clf.predict(x_train)),\n",
    "        'Test': roc_auc_score(y_test, lr_clf.predict(x_test)),\n",
    "    },\n",
    "}"
   ]
  },
  {
   "cell_type": "code",
   "execution_count": 65,
   "id": "e3bf5cb3",
   "metadata": {},
   "outputs": [],
   "source": [
    "#creating a custom function to find Variable importance\n",
    "def feature_imp(df, model):\n",
    "    fi = pd.DataFrame()\n",
    "    fi[\"feature\"] = df.columns\n",
    "    fi[\"importance\"] = model.feature_importances_\n",
    "    return fi.sort_values(by=\"importance\", ascending=False)"
   ]
  },
  {
   "cell_type": "code",
   "execution_count": 57,
   "id": "d5f7a135",
   "metadata": {},
   "outputs": [
    {
     "name": "stdout",
     "output_type": "stream",
     "text": [
      "TRAINIG RESULTS: \n",
      "===============================\n",
      "CONFUSION MATRIX:\n",
      "[[2877  563]\n",
      " [ 442 2958]]\n",
      "ACCURACY SCORE:\n",
      "0.8531\n",
      "CLASSIFICATION REPORT:\n",
      "                     0            1  accuracy    macro avg  weighted avg\n",
      "precision     0.866827     0.840102   0.85307     0.853465      0.853543\n",
      "recall        0.836337     0.870000   0.85307     0.853169      0.853070\n",
      "f1-score      0.851309     0.854790   0.85307     0.853050      0.853039\n",
      "support    3440.000000  3400.000000   0.85307  6840.000000   6840.000000\n",
      "TESTING RESULTS: \n",
      "===============================\n",
      "CONFUSION MATRIX:\n",
      "[[1227  219]\n",
      " [ 224 1262]]\n",
      "ACCURACY SCORE:\n",
      "0.8489\n",
      "CLASSIFICATION REPORT:\n",
      "                     0            1  accuracy    macro avg  weighted avg\n",
      "precision     0.845624     0.852127  0.848909     0.848875      0.848920\n",
      "recall        0.848548     0.849260  0.848909     0.848904      0.848909\n",
      "f1-score      0.847083     0.850691  0.848909     0.848887      0.848912\n",
      "support    1446.000000  1486.000000  0.848909  2932.000000   2932.000000\n"
     ]
    }
   ],
   "source": [
    "#support vector Machine Classifier\n",
    "from sklearn.svm import SVC\n",
    "\n",
    "svm_clf = SVC(kernel='linear')\n",
    "svm_clf.fit(x_train, y_train)\n",
    "\n",
    "evaluate(svm_clf, x_train, x_test, y_train, y_test)"
   ]
  },
  {
   "cell_type": "code",
   "execution_count": 60,
   "id": "4cc79693",
   "metadata": {},
   "outputs": [
    {
     "name": "stdout",
     "output_type": "stream",
     "text": [
      "TRAINIG RESULTS: \n",
      "===============================\n",
      "CONFUSION MATRIX:\n",
      "[[3373   67]\n",
      " [  41 3359]]\n",
      "ACCURACY SCORE:\n",
      "0.9842\n",
      "CLASSIFICATION REPORT:\n",
      "                     0            1  accuracy    macro avg  weighted avg\n",
      "precision     0.987991     0.980444  0.984211     0.984217      0.984239\n",
      "recall        0.980523     0.987941  0.984211     0.984232      0.984211\n",
      "f1-score      0.984243     0.984178  0.984211     0.984210      0.984211\n",
      "support    3440.000000  3400.000000  0.984211  6840.000000   6840.000000\n",
      "TESTING RESULTS: \n",
      "===============================\n",
      "CONFUSION MATRIX:\n",
      "[[1300  146]\n",
      " [ 144 1342]]\n",
      "ACCURACY SCORE:\n",
      "0.9011\n",
      "CLASSIFICATION REPORT:\n",
      "                     0            1  accuracy    macro avg  weighted avg\n",
      "precision     0.900277     0.901882  0.901091     0.901079      0.901090\n",
      "recall        0.899032     0.903096  0.901091     0.901064      0.901091\n",
      "f1-score      0.899654     0.902488  0.901091     0.901071      0.901090\n",
      "support    1446.000000  1486.000000  0.901091  2932.000000   2932.000000\n"
     ]
    }
   ],
   "source": [
    "from xgboost import XGBClassifier\n",
    "\n",
    "xgb_clf = XGBClassifier()\n",
    "xgb_clf.fit(x_train, y_train)\n",
    "\n",
    "evaluate(xgb_clf, x_train, x_test, y_train, y_test)"
   ]
  },
  {
   "cell_type": "code",
   "execution_count": 62,
   "id": "dcee13c1",
   "metadata": {},
   "outputs": [],
   "source": [
    "scores_dict['XGBoost'] = {\n",
    "        'Train': roc_auc_score(y_train, xgb_clf.predict(x_train)),\n",
    "        'Test': roc_auc_score(y_test, xgb_clf.predict(x_test)),\n",
    "    }"
   ]
  },
  {
   "cell_type": "code",
   "execution_count": 63,
   "id": "418d9030",
   "metadata": {},
   "outputs": [
    {
     "data": {
      "image/png": "[encoded data removed]",
      "text/plain": [
       "<Figure size 1008x1800 with 3 Axes>"
      ]
     },
     "metadata": {
      "needs_background": "light"
     },
     "output_type": "display_data"
    }
   ],
   "source": [
    "precisions, recalls, thresholds = precision_recall_curve(y_test, xgb_clf.predict(x_test))\n",
    "plt.figure(figsize=(14, 25))\n",
    "plt.subplot(4, 2, 1)\n",
    "plot_precision_recall_vs_threshold(precisions, recalls, thresholds)\n",
    "\n",
    "plt.subplot(4, 2, 2)\n",
    "plt.plot(precisions, recalls)\n",
    "plt.xlabel(\"Precision\")\n",
    "plt.ylabel(\"Recall\")\n",
    "plt.title(\"PR Curve: precisions/recalls tradeoff\");\n",
    "\n",
    "plt.subplot(4, 2, 3)\n",
    "fpr, tpr, thresholds = roc_curve(y_test, xgb_clf.predict(x_test))\n",
    "plot_roc_curve(fpr, tpr)"
   ]
  },
  {
   "cell_type": "code",
   "execution_count": 67,
   "id": "e5bdcdd9",
   "metadata": {},
   "outputs": [
    {
     "data": {
      "text/plain": [
       "Text(0.5, 1.0, 'Feature Importance according to XGBoost')"
      ]
     },
     "execution_count": 67,
     "metadata": {},
     "output_type": "execute_result"
    },
    {
     "data": {
      "image/png": "[encoded data removed]",
      "text/plain": [
       "<Figure size 720x576 with 1 Axes>"
      ]
     },
     "metadata": {
      "needs_background": "light"
     },
     "output_type": "display_data"
    }
   ],
   "source": [
    "df = feature_imp(x, xgb_clf)[:35]\n",
    "df.set_index('feature', inplace=True)\n",
    "df.plot(kind='barh', figsize=(10, 8))\n",
    "plt.title('Feature Importance according to XGBoost')"
   ]
  },
  {
   "cell_type": "code",
   "execution_count": 69,
   "id": "6c5aace7",
   "metadata": {},
   "outputs": [
    {
     "name": "stdout",
     "output_type": "stream",
     "text": [
      "XGBOOST                        roc_auc_score: 0.901\n",
      "LOGISTIC REGRESSION            roc_auc_score: 0.859\n",
      "SUPPORT VECTOR MACHINE         roc_auc_score: 0.849\n"
     ]
    }
   ],
   "source": [
    "#comparing Model\n",
    "ml_models = {\n",
    "    'XGBoost': xgb_clf, \n",
    "    'Logistic Regression': lr_clf,\n",
    "    'Support Vector Machine': svm_clf,\n",
    "}\n",
    "\n",
    "for model in ml_models:\n",
    "    print(f\"{model.upper():{30}} roc_auc_score: {roc_auc_score(y_test, ml_models[model].predict(x_test)):.3f}\")"
   ]
  },
  {
   "cell_type": "code",
   "execution_count": 73,
   "id": "8cb269d8",
   "metadata": {},
   "outputs": [
    {
     "data": {
      "text/plain": [
       "<AxesSubplot:>"
      ]
     },
     "execution_count": 73,
     "metadata": {},
     "output_type": "execute_result"
    },
    {
     "data": {
      "image/png": "[encoded data removed]",
      "text/plain": [
       "<Figure size 1080x576 with 1 Axes>"
      ]
     },
     "metadata": {
      "needs_background": "light"
     },
     "output_type": "display_data"
    }
   ],
   "source": [
    "scores_df = pd.DataFrame(scores_dict)\n",
    "scores_df.plot(kind='barh', figsize=(15, 8))"
   ]
  }
 ],
 "metadata": {
  "kernelspec": {
   "display_name": "Python 3 (ipykernel)",
   "language": "python",
   "name": "python3"
  },
  "language_info": {
   "codemirror_mode": {
    "name": "ipython",
    "version": 3
   },
   "file_extension": ".py",
   "mimetype": "text/x-python",
   "name": "python",
   "nbconvert_exporter": "python",
   "pygments_lexer": "ipython3",
   "version": "3.9.15"
  }
 },
 "nbformat": 4,
 "nbformat_minor": 5
}
